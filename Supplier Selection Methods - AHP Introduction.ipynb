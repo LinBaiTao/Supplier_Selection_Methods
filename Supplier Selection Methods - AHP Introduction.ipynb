{
 "cells": [
  {
   "cell_type": "markdown",
   "metadata": {},
   "source": [
    "# Supplier Selection Methods - Analytic Heirarchy Process Introduction\n",
    "Prepared by: Nickolas Freeman, Ph.D.\n",
    "\n",
    "In contrast to the weighted sum, weighted product, and TOPSIS methods introduced in other notebooks, the method presented in this notebook focuses on a technique that is applicable when a set of candidate suppliers has been identified, and we are trying to come up with a ranking for the candidate suppliers. In particular, the technique we will be studying is known as the Analytic Heirarchy Process (AHP).\n",
    "\n",
    "To get a fundamental sense of how AHP works, this notebook implements an example that seeks to select a leader out of a set of three candidates."
   ]
  },
  {
   "cell_type": "markdown",
   "metadata": {},
   "source": [
    "# Analytic Hierarchy Process (AHP) - Leader Example\n",
    "\n",
    "This workbook implements the Analytic Hierarcy Process (AHP) for the leader selection example posted at https://en.wikipedia.org/wiki/Analytic_hierarchy_process_%E2%80%93_leader_example (accessed 1/16/2018). Details of the example, from the website, follow.\n",
    "\n",
    "> ## Overview\n",
    ">This example describes the use of the AHP in choosing a leader for a company whose founder is about to retire. There are several competing candidates and several competing criteria for choosing the most suitable one. By using the AHP, the board of directors is able to choose the best candidate in a rational, transparent way that can be examined and understood by all concerned.\n",
    "\n",
    ">The diagram below shows the AHP hierarchy at the end of the decision making process. The goal is to choose the most suitable leader based on four specific criteria. Dick is the preferred alternative, with a priority of .493. He is preferred about a third more strongly than Tom, whose priority is .358, and about three times more strongly than Harry, whose priority is only .149. Experience is the most important criterion with respect to reaching the goal, followed by Charisma, Education, and Age. These factors are weighted .547, .270, .127, and .056, respectively.\n",
    "\n",
    ">The balance of this article describes the derivation of these priorities.\n",
    "\n",
    "> ### Decision Scenario\n",
    "\n",
    ">The company, founded in 1960, makes specialized industrial equipment. Its future success will depend on maintaining the strength of its older product lines and on generating a constant flow of new ones. The company's founder is retiring soon, and a consulting firm has developed a detailed plan for continuing its success in his absence. The plan will take five years to implement, and will replace the founder's highly subjective \"seat of the pants\" style with a more carefully thought out way of doing business.\n",
    "\n",
    ">The board of directors needs to choose someone to lead the company through the change and upheaval that implementing the consultant's plan will involve. In doing this work, the new leader will be required to make many unpopular decisions and take many unpopular actions. He or she will be expected to “clear the air” by stepping aside after the plan is fully implemented.\n",
    "\n",
    ">Six months ago, the board said:\n",
    "\n",
    ">>After much thought and discussion, we have identified four criteria to be used in choosing the person to guide us through the upcoming period of change: **experience**, **education**, **charisma** and **age**. Experience is important because the job requires skills and knowledge that can only be developed through practical application. And though our beloved founder was a self-made man who didn’t finish high school, the times demand that our new leader have an appropriate university education. Since the new leader will have to keep us all motivated during a difficult period of change, we prefer someone with an active, charismatic leadership style. Finally, the new leader's Age is important because he or she will need to have an appropriate career path after stepping down five years from now. — Board of directors, letter to employees and shareholders\n",
    "\n",
    ">Last week, they said:\n",
    "\n",
    ">>After an extensive search, we have selected three candidates for this very challenging position. All are presently executives with the company. Choosing among them will be difficult, but we plan to announce our decision shortly. — Board of directors, followup letter to employees and shareholders\n",
    "\n",
    ">The three candidates are Tom, Dick, and Harry. Summaries of their backgrounds are shown below:\n",
    "\n",
    "> <img src=\"images/AHP_Leader_Biographies.png\" style=\"width:550px;height:470px;\">\n",
    "\n",
    "> ### Decision Hierarchy\n",
    "The AHP hierarchy for this decision is shown below.\n",
    "\n",
    "> <img src=\"images/AHP_Leader_Hierarchy.png\" style=\"width:450px;height:300px;\">\n",
    "\n",
    ">As the decision makers continue with the AHP, they will determine priorities for the candidates with respect to each of the decision criteria, and priorities for each of the criteria with respect to their importance in reaching the goal.\n",
    "\n",
    ">The priorities will then be combined throughout the hierarchy to give an overall priority for each candidate. The candidate with the highest priority will be the most suitable Alternative, and the ratios of the candidates' priorities will indicate their relative strengths with respect to the Goal.\n",
    "\n",
    "> ### Pairwise Comparisons\n",
    "\n",
    ">The priorities will be derived from a series of measurements: pairwise comparisons involving all the nodes.\n",
    "\n",
    ">Each colored box in the hierarchy diagram above is called a node.\n",
    "\n",
    ">The nodes at each level will be compared, two by two, with respect to their contribution to the nodes above them. The results of these comparisons will be entered into a matrix which is processed mathematically to derive the priorities for all the nodes on the level.\n",
    "\n",
    ">The comparisons can be made in any sequence, but in this example we will begin by comparing the Alternatives with respect to their strengths in meeting each of the Criteria. Then we'll compare the Criteria with respect to their importance to reaching the Goal.\n",
    "\n",
    ">Since there are three alternatives (Tom, Dick, and Harry) and we need to compare each one to each of the others, the decision makers (the Board) will make three pairwise comparisons with respect to each Criterion: Tom vs. Dick, Tom vs. Harry, and Dick vs. Harry. For each comparison, the Board will first judge which member of the pair is weaker with respect to the Criterion under consideration. Then they will assign a relative weight to the other candidate.\n",
    "\n",
    ">They will use the AHP fundamental scale in assigning the weights:\n",
    "\n",
    "> <img src=\"images/AHP_Scale.png\" style=\"width:500px;height:400px;\">\n",
    "\n",
    "> ## Experience\n",
    "\n",
    "> Using their knowledge of the work the leaders will be required to do, the board needs to evaluate the candidates' strengths with respect to experience. Though they have good information about each candidate's work history, there is no such thing as an objective scale for measuring \"experience.\" Thanks to the AHP, the Board will be able to develop a scale, applying only to this one case, that measures the candidates' relative strengths with respect to experience.\n",
    "\n",
    "> Here is the Board's thinking about experience:\n",
    "\n",
    "> The leader will implement a wide-ranging plan that involves major changes to a successful business. This work requires skills, knowledge, wisdom, and judgment that are usually present only in seasoned executives. Furthermore, the company is so complex and specialized that only direct experience inside it can equip a prospective leader for his job. Outside experience is also important, since it provides perspective and a view of the larger picture. — Board of Directors, Internal Memorandum\n",
    "\n",
    "> As a reminder, here is their summary of the candidates' experience:\n",
    "\n",
    "> <img src=\"images/AHP_Leader_Experience_Summary.png\" style=\"width:700px;height:100px;\">\n",
    "\n",
    "> The next step in the AHP is to compare pairs of candidates with respect to Experience. For each comparison, the Board decides which candidate is the weaker with respect to Experience, giving his experience a weight of 1. Then, using the AHP Fundamental Scale, they assign a weight to the experience of the other candidate.\n",
    "\n",
    "> Their comparisons are summarized below. (A summary in this form is not an essential part of the AHP. It is presented here only to help readers understand this example. The colors in the squares will help them see where each entry belongs in the AHP matrix):\n",
    "\n",
    "> <img src=\"images/AHP_Leader_Experience_Grid.png\" style=\"width:800px;height:200px;\">\n",
    "\n",
    "> The next step is to transfer the weights to a matrix, using a method unique to the AHP. For each pairwise comparison, the number representing the greater weight is transferred to the box of the corresponding color; the reciprocal of that number is put into the box of the color corresponding to the smaller number:\n",
    "\n",
    "\n",
    "> <img src=\"images/AHP_Leader_Experience_Matrix.png\" style=\"width:300px;height:250px;\">\n",
    "\n",
    "> By processing this matrix mathematically, the AHP derives priorities for the candidates with respect to Experience. The priorities are measurements of their relative strengths, derived from the judgments of the decision makers as entered into the matrix. Mathematically speaking, they are the values in the matrix's principal right eigenvector. These values can be calculated in many ways, including by hand, or with a spreadsheet program, or by using specialized AHP software. They are shown below to the right of the matrix, along with an Inconsistency Factor computed by the specialized AHP software that was used to process the data:\n",
    "\n",
    "> <img src=\"images/AHP_Leader_Experience_Matrix_w_Priorities.png\" style=\"width:350px;height:250px;\">"
   ]
  },
  {
   "cell_type": "markdown",
   "metadata": {},
   "source": [
    "The previous description provides a general sense of how the AHP procedure will work. The hope is that the description of the implementation that follows will make additional details of the procedure more clear.\n",
    "\n",
    "The following code block imports the libraries we will be using."
   ]
  },
  {
   "cell_type": "code",
   "execution_count": 1,
   "metadata": {},
   "outputs": [],
   "source": [
    "import numpy as np\n",
    "import pandas as pd"
   ]
  },
  {
   "cell_type": "markdown",
   "metadata": {},
   "source": [
    "# Criteria Ranking\n",
    "\n",
    "As mentioned in the description, the criteria that will be considered when selecting the leader are 1) Experience, 2) Education, 3) Charisma, and 4) Age. The following code block stores the criteria in a list which will allow us to provide more descriptive output later in the procedure."
   ]
  },
  {
   "cell_type": "code",
   "execution_count": 2,
   "metadata": {},
   "outputs": [],
   "source": [
    "criteria = ['Experience','Education','Charisma','Age']\n",
    "number_of_criteria = len(criteria)"
   ]
  },
  {
   "cell_type": "markdown",
   "metadata": {},
   "source": [
    "We will begin by performing the pairwise comparisons for the four criteria. We will utilize `NumPy` arrays for storing the comparisons and performing computations throughout. In particular, for the criteria comparison we will use a square array where both the number of columns and rows equals the number of criteria. For record keeping purposes, we will assume that the column and rows are ordered according to the order of the criteria in the `criteria` list. Noting that NumPy arrays start at zero, this would result in cell [0][0] storing the comparison of **experience** relative to **experience** and cell [1][2] storing the comparison of **education** relative to **charisma**."
   ]
  },
  {
   "cell_type": "code",
   "execution_count": 3,
   "metadata": {},
   "outputs": [
    {
     "name": "stdout",
     "output_type": "stream",
     "text": [
      "The criteria score matrix is:\n",
      "[[ 1.        4.        3.        7.      ]\n",
      " [ 0.25      1.        0.33333   3.      ]\n",
      " [ 0.33333   3.        1.        5.      ]\n",
      " [ 0.142857  0.33333   0.2       1.      ]]\n"
     ]
    }
   ],
   "source": [
    "criteria_scores = np.array([[1, 4, 3, 7],\n",
    "                   [0.25, 1, 0.33333, 3],\n",
    "                   [0.33333, 3, 1, 5],\n",
    "                   [0.142857, 0.33333, 0.2, 1]\n",
    "                  ])\n",
    "\n",
    "print(\"The criteria score matrix is:\")\n",
    "print(criteria_scores)"
   ]
  },
  {
   "cell_type": "markdown",
   "metadata": {},
   "source": [
    "Next, we compute column sums for the criteria scores array. The sums are printed so that you can verify the correctness."
   ]
  },
  {
   "cell_type": "code",
   "execution_count": 4,
   "metadata": {},
   "outputs": [
    {
     "name": "stdout",
     "output_type": "stream",
     "text": [
      "\n",
      "The column sums for the criteria matrix are:\n",
      "[  1.726187   8.33333    4.53333   16.      ]\n"
     ]
    }
   ],
   "source": [
    "criteria_column_sums = np.sum(criteria_scores,axis=0)\n",
    "\n",
    "print(\"\\nThe column sums for the criteria matrix are:\")\n",
    "print(criteria_column_sums)"
   ]
  },
  {
   "cell_type": "markdown",
   "metadata": {},
   "source": [
    "Next, we normalize the criteria scores by dividing each entry in the array by its column sum. This normalization results in entries of each column of the normalized matrix summing to 1.00."
   ]
  },
  {
   "cell_type": "code",
   "execution_count": 5,
   "metadata": {},
   "outputs": [
    {
     "name": "stdout",
     "output_type": "stream",
     "text": [
      "The normalized scores are:\n",
      "[[ 0.57931151  0.48000019  0.66176519  0.4375    ]\n",
      " [ 0.14482788  0.12000005  0.07352873  0.1875    ]\n",
      " [ 0.19310191  0.36000014  0.2205884   0.3125    ]\n",
      " [ 0.0827587   0.03999962  0.04411768  0.0625    ]]\n",
      "\n",
      "The sums of the normalized scores are:\n",
      "[ 1.  1.  1.  1.]\n"
     ]
    }
   ],
   "source": [
    "normalized_criteria_scores = criteria_scores/criteria_column_sums\n",
    "print(\"The normalized scores are:\")\n",
    "print(normalized_criteria_scores)\n",
    "\n",
    "print(\"\\nThe sums of the normalized scores are:\")\n",
    "print(np.sum(normalized_criteria_scores,axis=0))"
   ]
  },
  {
   "cell_type": "markdown",
   "metadata": {},
   "source": [
    "We now compute the priority vector by finding the average value in each row of the normalized criteria score matrix."
   ]
  },
  {
   "cell_type": "code",
   "execution_count": 6,
   "metadata": {},
   "outputs": [
    {
     "name": "stdout",
     "output_type": "stream",
     "text": [
      "The priority for Experience is: 0.5396442239788989 .\n",
      "The priority for Education is: 0.13146416409903217 .\n",
      "The priority for Charisma is: 0.2715476119000481 .\n",
      "The priority for Age is: 0.057344000022020794 .\n"
     ]
    }
   ],
   "source": [
    "criteria_priority_vector = np.average(normalized_criteria_scores,axis=1)\n",
    "\n",
    "for current_criteria in range(number_of_criteria):\n",
    "    print(\"The priority for {} is: {}\".format(criteria[current_criteria],criteria_priority_vector[current_criteria]),\".\")"
   ]
  },
  {
   "cell_type": "markdown",
   "metadata": {},
   "source": [
    "Recall from the problem description that\n",
    "\n",
    ">Experience is the most important criterion with respect to reaching the goal, followed by Charisma, Education, and Age. These factors are weighted .547, .270, .127, and .056, respectively.\n",
    "\n",
    "As you can see, the prioirties we caclulate are aligned, although there are slight differences due to rounding."
   ]
  },
  {
   "cell_type": "markdown",
   "metadata": {},
   "source": [
    "We now start the process of checking the consistency of the rankings. First, we need to approximate the maximum eigenvalue by computing the inner product of the prioirtity vector and the criteria matrix column sums."
   ]
  },
  {
   "cell_type": "code",
   "execution_count": 7,
   "metadata": {},
   "outputs": [
    {
     "name": "stdout",
     "output_type": "stream",
     "text": [
      "The maximum eigenvalue for the criteria matrix is: 4.175580042476029 .\n"
     ]
    }
   ],
   "source": [
    "criteria_max_eigenvalue = np.inner(criteria_priority_vector, criteria_column_sums)\n",
    "\n",
    "print(\"The maximum eigenvalue for the criteria matrix is: {}\".format(criteria_max_eigenvalue),\".\")"
   ]
  },
  {
   "cell_type": "markdown",
   "metadata": {},
   "source": [
    "We now compute the consistency index (CI) using the formula $\\left(\\lambda_{max}-n\\right)/\\left(n-1\\right)$,\n",
    "where $\\lambda_{max}$ is the maximum eigenvalue and $n$ is the number of criteria."
   ]
  },
  {
   "cell_type": "code",
   "execution_count": 8,
   "metadata": {},
   "outputs": [
    {
     "name": "stdout",
     "output_type": "stream",
     "text": [
      "The consistency index (CI) for the criteria rankings is: 0.05852668082534299 .\n"
     ]
    }
   ],
   "source": [
    "criteria_CI = (criteria_max_eigenvalue - number_of_criteria)/(number_of_criteria-1)\n",
    "\n",
    "print(\"The consistency index (CI) for the criteria rankings is: {}\".format(criteria_CI),\".\")"
   ]
  },
  {
   "cell_type": "markdown",
   "metadata": {},
   "source": [
    "Finally, we compute the consistency ratio (CR) using the formula $CI/RI$,\n",
    "where $RI$ is the consistency index for a *random-like* matrix. If this value is less than 0.10, we can say that our rankings are more consistent than we would expect from a randomly generated ranking matrix. If the CR is greater than our equal to 0.10, we would want to revise our original criteria rankings and restart the process. The $RI$ values are tabulated and provided for numbers of criteria between 1 and 10. The code contains the RI values as a list, which has been updated to start from a criteria number of zero, which is a meaningless case (hence the `NaN`)."
   ]
  },
  {
   "cell_type": "code",
   "execution_count": 9,
   "metadata": {},
   "outputs": [
    {
     "name": "stdout",
     "output_type": "stream",
     "text": [
      "The consistency ratio for the criteria rankings is 0.06502964536149221. \n",
      "Thus, the specified preferences are consistent.\n"
     ]
    }
   ],
   "source": [
    "RI = ['NaN',0,0,0.58,0.9,1.12,1.24,1.32,1.41,1.45,1.49] \n",
    "criteria_CR = criteria_CI/RI[number_of_criteria]\n",
    "\n",
    "if(criteria_CR < 0.10):\n",
    "    print(\"The consistency ratio for the criteria rankings is {}.\".format(criteria_CR), \n",
    "          \"\\nThus, the specified preferences are consistent.\")\n",
    "else:\n",
    "   print(\"The consistency ratio for the criteria rankings is {}.\".format(criteria_CR),\n",
    "         \"\\nThus, the specified preferences are NOT consistent!\",\n",
    "         \"\\nPlease revise original rankings and restart the process.\"\n",
    "        )"
   ]
  },
  {
   "cell_type": "markdown",
   "metadata": {},
   "source": [
    "# Ranking Alternatives with Respect to Criteria\n",
    "\n",
    "In this section, we will apply the same basic approach to rank the alternatives with respect to the criteria. Recall that the alternatives are Tome, Dick, and Harry."
   ]
  },
  {
   "cell_type": "code",
   "execution_count": 10,
   "metadata": {},
   "outputs": [],
   "source": [
    "alternatives = ['Tom','Dick','Harry']\n",
    "number_of_alternatives = len(alternatives)"
   ]
  },
  {
   "cell_type": "markdown",
   "metadata": {},
   "source": [
    "The most challenging aspect of ranking the alternatives is determining and correctly utilizing an appropriate data structure for the rankings. When comparing the criteria to one another, we could utilize a simple `NumPy` array. However, at this stage we need to rank the alternatives relative to one another for each criteria. Thus, for our example we would need four ranking arrays.\n",
    "\n",
    "To keep track of the different arrays, we utilize a Python dictionary. Specifically, we construct a dictionary with four keys, one for each criteria. We then associate a `NumPy` array with each of the keys that contains the rankings for the alternatives. The following code block shows the construction of the dictionary, using the values given in the example."
   ]
  },
  {
   "cell_type": "code",
   "execution_count": 11,
   "metadata": {},
   "outputs": [
    {
     "name": "stdout",
     "output_type": "stream",
     "text": [
      "The dictionary containing the ranking of alternative follows.\n"
     ]
    },
    {
     "data": {
      "text/plain": [
       "{'Age': array([[ 1.     ,  0.33333,  5.     ],\n",
       "        [ 3.     ,  1.     ,  9.     ],\n",
       "        [ 0.2    ,  0.1111 ,  1.     ]]),\n",
       " 'Charisma': array([[ 1.     ,  5.     ,  9.     ],\n",
       "        [ 0.2    ,  1.     ,  4.     ],\n",
       "        [ 0.11111,  1.4    ,  1.     ]]),\n",
       " 'Education': array([[ 1.      ,  3.      ,  0.2     ],\n",
       "        [ 0.33333 ,  1.      ,  0.142857],\n",
       "        [ 5.      ,  7.      ,  1.      ]]),\n",
       " 'Experience': array([[ 1.     ,  0.25   ,  4.     ],\n",
       "        [ 4.     ,  1.     ,  9.     ],\n",
       "        [ 0.25   ,  0.11111,  1.     ]])}"
      ]
     },
     "execution_count": 11,
     "metadata": {},
     "output_type": "execute_result"
    }
   ],
   "source": [
    "alternative_rankings_dict = {}\n",
    "alternative_rankings_dict['Experience'] = np.array([[1, 0.25, 4],\n",
    "                                                   [4, 1, 9],\n",
    "                                                   [0.25, 0.11111,1]])\n",
    "\n",
    "alternative_rankings_dict['Education'] = np.array([[1, 3, 0.2],\n",
    "                                                  [0.33333, 1.0, 0.142857],\n",
    "                                                  [5.0, 7.0, 1.0]])\n",
    "\n",
    "alternative_rankings_dict['Charisma'] = np.array([[1, 5.0, 9.0],\n",
    "                                                 [0.2, 1.0, 4.0],\n",
    "                                                 [0.11111, 1.4, 1.0]])\n",
    "\n",
    "alternative_rankings_dict['Age'] = np.array([[1, 0.33333, 5],\n",
    "                                            [3, 1, 9],\n",
    "                                            [0.2, 0.1111, 1.0]])\n",
    "\n",
    "print(\"The dictionary containing the ranking of alternative follows.\")\n",
    "alternative_rankings_dict"
   ]
  },
  {
   "cell_type": "markdown",
   "metadata": {},
   "source": [
    "The following code block constructs another dictionary to store the priority vectors that represent the relative ranking of each alternative with respect to each criteria. The steps we use to compute each priority vector is exactly the same as that shown earlier. However, instead of working with a single matrix of scores, we have to be careful to utilize the appropriate array that is stored in the `alternative_rankings_dict` dictionary."
   ]
  },
  {
   "cell_type": "code",
   "execution_count": 12,
   "metadata": {},
   "outputs": [],
   "source": [
    "alternatives_priority_vector_dict = {}\n",
    "\n",
    "for current_criteria in range(number_of_criteria):\n",
    "    alternative_scores = alternative_rankings_dict[criteria[current_criteria]]\n",
    "    alternative_column_sums = np.sum(alternative_scores,axis=0)\n",
    "    alternative_scores_divided_by_sums = alternative_scores/alternative_column_sums\n",
    "    alternatives_priority_vector_dict[criteria[current_criteria]] = np.average(alternative_scores_divided_by_sums,axis=1)"
   ]
  },
  {
   "cell_type": "markdown",
   "metadata": {},
   "source": [
    "The following cell prints the priority vectors for each criteria. Note that for each priority vector, the first, second, third numbers corresponds to the relative rankings for Tom, Dick, and Harry, respectively."
   ]
  },
  {
   "cell_type": "code",
   "execution_count": 13,
   "metadata": {},
   "outputs": [
    {
     "data": {
      "text/plain": [
       "{'Age': array([ 0.26739927,  0.66886678,  0.06373396]),\n",
       " 'Charisma': array([ 0.69374844,  0.19113064,  0.11512092]),\n",
       " 'Education': array([ 0.19318609,  0.08330768,  0.72350622]),\n",
       " 'Experience': array([ 0.2199547 ,  0.71315213,  0.06689317])}"
      ]
     },
     "execution_count": 13,
     "metadata": {},
     "output_type": "execute_result"
    }
   ],
   "source": [
    "alternatives_priority_vector_dict"
   ]
  },
  {
   "cell_type": "markdown",
   "metadata": {},
   "source": [
    "Finally, the following code block computes the score for each of the alternatives by multiplying their priority for each criteria by the priority of the criteria with respect to the goal. The score for each alternative is printed, identifying Dick as the best alternative."
   ]
  },
  {
   "cell_type": "code",
   "execution_count": 14,
   "metadata": {},
   "outputs": [
    {
     "name": "stdout",
     "output_type": "stream",
     "text": [
      "Tom's score is 0.348.\n",
      "Dick's score is 0.486.\n",
      "Harry's score is 0.166.\n",
      "Total score is 1.0.\n"
     ]
    }
   ],
   "source": [
    "Total_Score = 0\n",
    "for i in range(number_of_alternatives):\n",
    "    Weighted_Score = 0\n",
    "    for current_criteria in range(number_of_criteria):\n",
    "        Weighted_Score += alternatives_priority_vector_dict[criteria[current_criteria]][i]*criteria_priority_vector[current_criteria]\n",
    "    Total_Score += Weighted_Score\n",
    "    print(\"{}'s score is {}.\".format(alternatives[i],round(Weighted_Score,3)))\n",
    "print(\"Total score is {}.\".format(round(Total_Score,3)))"
   ]
  },
  {
   "cell_type": "markdown",
   "metadata": {},
   "source": [
    "Recall from the problem overview that:\n",
    "\n",
    "> Dick is the preferred alternative, with a priority of .493. He is preferred about a third more strongly than Tom, whose priority is .358, and about three times more strongly than Harry, whose priority is only .149.\n",
    "\n",
    "**Note that the differences we observe in scores for the three alternatives is due to rounding throughout the procedure.** "
   ]
  }
 ],
 "metadata": {
  "kernelspec": {
   "display_name": "Python 3",
   "language": "python",
   "name": "python3"
  },
  "language_info": {
   "codemirror_mode": {
    "name": "ipython",
    "version": 3
   },
   "file_extension": ".py",
   "mimetype": "text/x-python",
   "name": "python",
   "nbconvert_exporter": "python",
   "pygments_lexer": "ipython3",
   "version": "3.6.3"
  }
 },
 "nbformat": 4,
 "nbformat_minor": 2
}
