{
 "cells": [
  {
   "cell_type": "markdown",
   "metadata": {},
   "source": [
    "# Numpy and Matplotlib Example\n",
    "Prepared by: Nickolas Freeman, Ph.D.\n",
    "\n",
    "This notebook covers some basic operations in `numpy` and `matplotlib` that we will be expanding on as we look at  methods for supplier selection.  First, we import the stated libraries and set some parameters for matplotlib."
   ]
  },
  {
   "cell_type": "code",
   "execution_count": 1,
   "metadata": {},
   "outputs": [],
   "source": [
    "import numpy as np\n",
    "\n",
    "import matplotlib.pyplot as plt\n",
    "plt.rcParams.update({'font.family': 'STIXGeneral', 'mathtext.fontset': 'stix'})"
   ]
  },
  {
   "cell_type": "markdown",
   "metadata": {},
   "source": [
    "# Array Creation\n",
    "The following code block shows how to create a `numpy` array using a Python list object."
   ]
  },
  {
   "cell_type": "code",
   "execution_count": 2,
   "metadata": {},
   "outputs": [
    {
     "name": "stdout",
     "output_type": "stream",
     "text": [
      "[ 1  2  3  4  5  6  7  8  9 10 11 12]\n"
     ]
    }
   ],
   "source": [
    "arr = np.array([1,2,3,4,5,6,7,8,9,10,11,12])\n",
    "print(arr)"
   ]
  },
  {
   "cell_type": "markdown",
   "metadata": {},
   "source": [
    "The following code block shows how to create a `numpy` array using the `numpy` `arange` method."
   ]
  },
  {
   "cell_type": "code",
   "execution_count": 3,
   "metadata": {},
   "outputs": [
    {
     "name": "stdout",
     "output_type": "stream",
     "text": [
      "[ 1  2  3  4  5  6  7  8  9 10 11 12]\n"
     ]
    }
   ],
   "source": [
    "arr = np.arange(1,13)\n",
    "print(arr)"
   ]
  },
  {
   "cell_type": "markdown",
   "metadata": {},
   "source": [
    "Reshape allows us to manipulate arrays into new shapes"
   ]
  },
  {
   "cell_type": "code",
   "execution_count": 4,
   "metadata": {},
   "outputs": [
    {
     "name": "stdout",
     "output_type": "stream",
     "text": [
      "[[ 1  2  3  4]\n",
      " [ 5  6  7  8]\n",
      " [ 9 10 11 12]]\n"
     ]
    }
   ],
   "source": [
    "arr = arr.reshape(3,4)\n",
    "print(arr)"
   ]
  },
  {
   "cell_type": "markdown",
   "metadata": {},
   "source": [
    "# Array Operations\n",
    "\n",
    "Several methods are defined in the `numpy` library that allow us to perform mathematical operations on `numpy` arrays. The following code block shows how the `sum` method may be used with no arguments to add together all elements of an array."
   ]
  },
  {
   "cell_type": "code",
   "execution_count": 5,
   "metadata": {},
   "outputs": [
    {
     "data": {
      "text/plain": [
       "78"
      ]
     },
     "execution_count": 5,
     "metadata": {},
     "output_type": "execute_result"
    }
   ],
   "source": [
    "arr.sum()"
   ]
  },
  {
   "cell_type": "markdown",
   "metadata": {},
   "source": [
    "Specifying an axis allows us to sum accross columns (axis=1) and rows (axis=0)."
   ]
  },
  {
   "cell_type": "code",
   "execution_count": 6,
   "metadata": {},
   "outputs": [
    {
     "name": "stdout",
     "output_type": "stream",
     "text": [
      "The column sums (i.e., summing each row across the columns) are:\n",
      "[10 26 42]\n",
      "\n",
      "The row sums (i.e., summing each column across the rows) are:\n",
      "[15 18 21 24]\n"
     ]
    }
   ],
   "source": [
    "print('The column sums (i.e., summing each row across the columns) are:')\n",
    "print(arr.sum(axis=1))\n",
    "\n",
    "print('\\nThe row sums (i.e., summing each column across the rows) are:')\n",
    "print(arr.sum(axis=0))"
   ]
  },
  {
   "cell_type": "markdown",
   "metadata": {},
   "source": [
    "We can use scalars to perform operations on all elements in an array at one time."
   ]
  },
  {
   "cell_type": "code",
   "execution_count": 7,
   "metadata": {},
   "outputs": [
    {
     "data": {
      "text/plain": [
       "array([[ 2,  4,  6,  8],\n",
       "       [10, 12, 14, 16],\n",
       "       [18, 20, 22, 24]])"
      ]
     },
     "execution_count": 7,
     "metadata": {},
     "output_type": "execute_result"
    }
   ],
   "source": [
    "arr*2"
   ]
  },
  {
   "cell_type": "markdown",
   "metadata": {},
   "source": [
    "The `**` operator is used for exponentiation."
   ]
  },
  {
   "cell_type": "code",
   "execution_count": 8,
   "metadata": {},
   "outputs": [
    {
     "data": {
      "text/plain": [
       "array([[  1,   4,   9,  16],\n",
       "       [ 25,  36,  49,  64],\n",
       "       [ 81, 100, 121, 144]], dtype=int32)"
      ]
     },
     "execution_count": 8,
     "metadata": {},
     "output_type": "execute_result"
    }
   ],
   "source": [
    "arr**2"
   ]
  },
  {
   "cell_type": "code",
   "execution_count": 9,
   "metadata": {},
   "outputs": [
    {
     "data": {
      "text/plain": [
       "array([[  1,   4,   9,  16],\n",
       "       [ 25,  36,  49,  64],\n",
       "       [ 81, 100, 121, 144]], dtype=int32)"
      ]
     },
     "execution_count": 9,
     "metadata": {},
     "output_type": "execute_result"
    }
   ],
   "source": [
    "np.power(arr,2)"
   ]
  },
  {
   "cell_type": "markdown",
   "metadata": {},
   "source": [
    "You can also apply more advanced methods across the various axes"
   ]
  },
  {
   "cell_type": "code",
   "execution_count": 10,
   "metadata": {},
   "outputs": [
    {
     "name": "stdout",
     "output_type": "stream",
     "text": [
      "The variance of the values in each column are:\n",
      "[ 10.66666667  10.66666667  10.66666667  10.66666667]\n",
      "\n",
      "The maximum values in each column are:\n",
      "[ 9 10 11 12]\n",
      "\n",
      "The (row) indices of the maximum value in each column are:\n",
      "[2 2 2 2]\n",
      "\n",
      "The cumulative sums across the rows are:\n",
      "[[ 1  2  3  4]\n",
      " [ 6  8 10 12]\n",
      " [15 18 21 24]]\n",
      "\n",
      "The cumulative sums across the columns are:\n",
      "[[ 1  3  6 10]\n",
      " [ 5 11 18 26]\n",
      " [ 9 19 30 42]]\n"
     ]
    }
   ],
   "source": [
    "print(\"The variance of the values in each column are:\")\n",
    "print(arr.var(axis=0))\n",
    "\n",
    "print(\"\\nThe maximum values in each column are:\")\n",
    "print(arr.max(axis=0))\n",
    "\n",
    "print(\"\\nThe (row) indices of the maximum value in each column are:\")\n",
    "print(arr.argmax(axis=0))\n",
    "\n",
    "print(\"\\nThe cumulative sums across the rows are:\")\n",
    "print(arr.cumsum(axis=0))\n",
    "\n",
    "print(\"\\nThe cumulative sums across the columns are:\")\n",
    "print(arr.cumsum(axis=1))"
   ]
  },
  {
   "cell_type": "markdown",
   "metadata": {},
   "source": [
    "You can also use conditional statements to return *boolean* arrays that can be used to perform specialized calculations."
   ]
  },
  {
   "cell_type": "code",
   "execution_count": 11,
   "metadata": {},
   "outputs": [
    {
     "name": "stdout",
     "output_type": "stream",
     "text": [
      "Which position of the arr object have values greater than 5?\n",
      "\n",
      "What is the sum of the squared array values that exceed five?\n",
      "595\n"
     ]
    }
   ],
   "source": [
    "print('Which position of the arr object have values greater than 5?')\n",
    "arr>5\n",
    "\n",
    "print('\\nWhat is the sum of the squared array values that exceed five?')\n",
    "print(np.power(arr[arr>5],2).sum())"
   ]
  },
  {
   "cell_type": "markdown",
   "metadata": {},
   "source": [
    "The following code block shows how to perform operations that mimic Excel's `sumproduct` function. "
   ]
  },
  {
   "cell_type": "code",
   "execution_count": 12,
   "metadata": {},
   "outputs": [
    {
     "name": "stdout",
     "output_type": "stream",
     "text": [
      "The first array is:\n",
      "[ 9 10 14  9 11  4  4  6  4  5]\n",
      "\n",
      "The second array is:\n",
      "[ 1.3  1.2  1.3  1.3  1.1  1.3  1.3  1.3  1.2  1.1]\n",
      "\n",
      "The element-wise product of the arrays is:\n",
      "[ 11.7  12.   18.2  11.7  12.1   5.2   5.2   7.8   4.8   5.5]\n",
      "\n",
      "The first method of computing the sumproduct yields:\n",
      "94.2\n",
      "\n",
      "The second method of computing the sumproduct yields:\n",
      "94.2\n"
     ]
    }
   ],
   "source": [
    "arr1 = np.random.poisson(7,size=10)\n",
    "print('The first array is:')\n",
    "print(arr1)\n",
    "\n",
    "arr2 = np.random.choice(a=[1.1, 1.2, 1.3],size=10, p=[0.2, 0.3, 0.5])\n",
    "print('\\nThe second array is:')\n",
    "print(arr2)\n",
    "\n",
    "print('\\nThe element-wise product of the arrays is:')\n",
    "print(arr1*arr2)\n",
    "\n",
    "print('\\nThe first method of computing the sumproduct yields:')\n",
    "print(np.sum(arr1*arr2))\n",
    "\n",
    "print('\\nThe second method of computing the sumproduct yields:')\n",
    "print(np.dot(arr1,arr2))"
   ]
  },
  {
   "cell_type": "markdown",
   "metadata": {},
   "source": [
    "Aside from its extensive computing functionality, `numpy` is very fast. The following code block computes the average time for generating a list of 10,000 numbers following a Normal distribution using Python lists."
   ]
  },
  {
   "cell_type": "code",
   "execution_count": 13,
   "metadata": {},
   "outputs": [
    {
     "name": "stdout",
     "output_type": "stream",
     "text": [
      "54.5 ms ± 7.75 ms per loop (mean ± std. dev. of 7 runs, 10 loops each)\n"
     ]
    }
   ],
   "source": [
    "%%timeit\n",
    "\n",
    "demand = []\n",
    "for i in range(10000):\n",
    "    demand.append(np.random.normal(100,10,1))"
   ]
  },
  {
   "cell_type": "markdown",
   "metadata": {},
   "source": [
    "The following code block performs the same task using `numpy` and provides a substantial speed improvement. **Note, 1 ms = 1000 $\\mu$s**"
   ]
  },
  {
   "cell_type": "code",
   "execution_count": 14,
   "metadata": {},
   "outputs": [
    {
     "name": "stdout",
     "output_type": "stream",
     "text": [
      "594 µs ± 18.8 µs per loop (mean ± std. dev. of 7 runs, 1000 loops each)\n"
     ]
    }
   ],
   "source": [
    "%%timeit \n",
    "\n",
    "demand = np.random.normal(100,10,10000)"
   ]
  },
  {
   "cell_type": "markdown",
   "metadata": {},
   "source": [
    "### Caveat: Assigning Existing Array to New Object\n",
    "\n",
    "In this subsection, I demonstrate a somewhat counterintuitive issue that can arise when making assignments using `numpy` arrays, and other python objects. At first glance, the following code block appears to copy the cntents of `arr` into a new object alled `arr2`."
   ]
  },
  {
   "cell_type": "code",
   "execution_count": 15,
   "metadata": {},
   "outputs": [
    {
     "name": "stdout",
     "output_type": "stream",
     "text": [
      "[[ 1  2  3  4]\n",
      " [ 5  6  7  8]\n",
      " [ 9 10 11 12]]\n"
     ]
    }
   ],
   "source": [
    "arr2 = arr\n",
    "print(arr2)"
   ]
  },
  {
   "cell_type": "markdown",
   "metadata": {},
   "source": [
    "Suppose we change one of the values in `arr2` as shown below."
   ]
  },
  {
   "cell_type": "code",
   "execution_count": 16,
   "metadata": {},
   "outputs": [
    {
     "name": "stdout",
     "output_type": "stream",
     "text": [
      "[[100   2   3   4]\n",
      " [  5   6   7   8]\n",
      " [  9  10  11  12]]\n"
     ]
    }
   ],
   "source": [
    "arr2[0,0]=100\n",
    "print(arr2)"
   ]
  },
  {
   "cell_type": "markdown",
   "metadata": {},
   "source": [
    "If we now print the original `arr`object, we will see that our assignment to `arr2` actually occurred in the `arr` object as well."
   ]
  },
  {
   "cell_type": "code",
   "execution_count": 17,
   "metadata": {},
   "outputs": [
    {
     "name": "stdout",
     "output_type": "stream",
     "text": [
      "[[100   2   3   4]\n",
      " [  5   6   7   8]\n",
      " [  9  10  11  12]]\n"
     ]
    }
   ],
   "source": [
    "print(arr)"
   ]
  },
  {
   "cell_type": "markdown",
   "metadata": {},
   "source": [
    "The 'extra copying' that we seem to have observed is not a bug. When we assigned the `arr` object to `arr2`, we just created a pointer that allows us to access the `arr` object via the `arr2` object. As a result, anything we do to `arr2` is actually being done to `arr`. The following code block shows how to use the `copy()` method to avoid the issue. "
   ]
  },
  {
   "cell_type": "code",
   "execution_count": 18,
   "metadata": {},
   "outputs": [
    {
     "name": "stdout",
     "output_type": "stream",
     "text": [
      "The original arr object is:\n",
      "[[ 1  2  3  4]\n",
      " [ 5  6  7  8]\n",
      " [ 9 10 11 12]]\n",
      "\n",
      "The original arr2 object is:\n",
      "[[ 1  2  3  4]\n",
      " [ 5  6  7  8]\n",
      " [ 9 10 11 12]]\n",
      "\n",
      "The updated arr2 object is:\n",
      "[[100   2   3   4]\n",
      " [  5   6   7   8]\n",
      " [  9  10  11  12]]\n",
      "\n",
      "After updating arr2, the arr object is:\n",
      "[[ 1  2  3  4]\n",
      " [ 5  6  7  8]\n",
      " [ 9 10 11 12]]\n"
     ]
    }
   ],
   "source": [
    "arr = np.arange(1,13).reshape(3,4)\n",
    "\n",
    "print('The original arr object is:')\n",
    "print(arr)\n",
    "\n",
    "arr2 = arr.copy()\n",
    "print('\\nThe original arr2 object is:')\n",
    "print(arr2)\n",
    "\n",
    "arr2[0,0]=100\n",
    "print('\\nThe updated arr2 object is:')\n",
    "print(arr2)\n",
    "\n",
    "print('\\nAfter updating arr2, the arr object is:')\n",
    "print(arr)"
   ]
  },
  {
   "cell_type": "markdown",
   "metadata": {},
   "source": [
    "# *Broadcasting*\n",
    "\n",
    "In `numpy`, the term broadcasting describes how `numpy` treats arrays with different shapes during arithmetic operations. Specifically, subject to certain constraints, the smaller array is \"broadcast\" across the larger array so that they have compatible shapes.\n",
    "\n",
    "In this section, we look at a simple example to provide a basic illustration of `numpy`'s broadcasting capabilities."
   ]
  },
  {
   "cell_type": "code",
   "execution_count": 19,
   "metadata": {},
   "outputs": [
    {
     "name": "stdout",
     "output_type": "stream",
     "text": [
      "The original arr object is:\n",
      "[[ 1  2  3  4]\n",
      " [ 5  6  7  8]\n",
      " [ 9 10 11 12]]\n",
      "\n",
      "The original arr2 object is:\n",
      "[ 1.  1.  1.  1.]\n"
     ]
    }
   ],
   "source": [
    "arr = np.arange(1,13).reshape(3,4)\n",
    "arr2 = np.ones(4)\n",
    "print('The original arr object is:')\n",
    "print(arr)\n",
    "\n",
    "print('\\nThe original arr2 object is:')\n",
    "print(arr2)"
   ]
  },
  {
   "cell_type": "markdown",
   "metadata": {},
   "source": [
    "If  we add the two array objects,  `numpy` 'broadcasts the smaller array over the larger. In this, case, adding the single row `arr2` object to each row of the larger `arr` object."
   ]
  },
  {
   "cell_type": "code",
   "execution_count": 20,
   "metadata": {},
   "outputs": [
    {
     "data": {
      "text/plain": [
       "array([[  2.,   3.,   4.,   5.],\n",
       "       [  6.,   7.,   8.,   9.],\n",
       "       [ 10.,  11.,  12.,  13.]])"
      ]
     },
     "execution_count": 20,
     "metadata": {},
     "output_type": "execute_result"
    }
   ],
   "source": [
    "arr+arr2"
   ]
  },
  {
   "cell_type": "markdown",
   "metadata": {},
   "source": [
    "If we were to reduce the length of the `arr2` object by 1, the broadcasting operation will fail. To see this, the following code block make the described modification to the `arr2` object and attempt to execute the sum in a `try-except` block. The operation fails, thus the exception is printed."
   ]
  },
  {
   "cell_type": "code",
   "execution_count": 21,
   "metadata": {},
   "outputs": [
    {
     "name": "stdout",
     "output_type": "stream",
     "text": [
      "The operation failed!\n"
     ]
    }
   ],
   "source": [
    "arr2 = np.ones(3)\n",
    "\n",
    "try:\n",
    "    arr+arr2\n",
    "except:\n",
    "    print('The operation failed!')"
   ]
  },
  {
   "cell_type": "markdown",
   "metadata": {},
   "source": [
    "The following code block demonstrates how the `newaxis` method can be used to make the operation that failed in the previous cell work."
   ]
  },
  {
   "cell_type": "code",
   "execution_count": 22,
   "metadata": {},
   "outputs": [
    {
     "name": "stdout",
     "output_type": "stream",
     "text": [
      "The original arr object is:\n",
      "[[ 1  2  3  4]\n",
      " [ 5  6  7  8]\n",
      " [ 9 10 11 12]]\n",
      "\n",
      "The original arr2 object is:\n",
      "[ 1.  1.  1.]\n",
      "\n",
      "The modified arr2 object is:\n",
      "[[ 1.]\n",
      " [ 1.]\n",
      " [ 1.]]\n",
      "\n",
      "The sum  of the two objects is:\n",
      "[[  2.   3.   4.   5.]\n",
      " [  6.   7.   8.   9.]\n",
      " [ 10.  11.  12.  13.]]\n"
     ]
    }
   ],
   "source": [
    "arr = np.arange(1,13).reshape(3,4)\n",
    "arr2 = np.ones(3)\n",
    "print('The original arr object is:')\n",
    "print(arr)\n",
    "\n",
    "print('\\nThe original arr2 object is:')\n",
    "print(arr2)\n",
    "\n",
    "arr2 = arr2[:,np.newaxis]\n",
    "print('\\nThe modified arr2 object is:')\n",
    "print(arr2)\n",
    "\n",
    "print('\\nThe sum  of the two objects is:')\n",
    "print(arr + arr2)"
   ]
  },
  {
   "cell_type": "markdown",
   "metadata": {},
   "source": [
    "The following code block demonstrates how the `reshape` method can be used to achieve the same goal."
   ]
  },
  {
   "cell_type": "code",
   "execution_count": 23,
   "metadata": {},
   "outputs": [
    {
     "name": "stdout",
     "output_type": "stream",
     "text": [
      "The original arr object is:\n",
      "[[ 1  2  3  4]\n",
      " [ 5  6  7  8]\n",
      " [ 9 10 11 12]]\n",
      "\n",
      "The original arr2 object is:\n",
      "[ 1.  1.  1.]\n",
      "\n",
      "The modified arr2 object is:\n",
      "[[ 1.]\n",
      " [ 1.]\n",
      " [ 1.]]\n",
      "\n",
      "The sum  of the two objects is:\n",
      "[[  2.   3.   4.   5.]\n",
      " [  6.   7.   8.   9.]\n",
      " [ 10.  11.  12.  13.]]\n"
     ]
    }
   ],
   "source": [
    "arr = np.arange(1,13).reshape(3,4)\n",
    "arr2 = np.ones(3)\n",
    "print('The original arr object is:')\n",
    "print(arr)\n",
    "\n",
    "print('\\nThe original arr2 object is:')\n",
    "print(arr2)\n",
    "\n",
    "arr2 = arr2.reshape(3,1)\n",
    "print('\\nThe modified arr2 object is:')\n",
    "print(arr2)\n",
    "\n",
    "print('\\nThe sum  of the two objects is:')\n",
    "print(arr + arr2)"
   ]
  },
  {
   "cell_type": "markdown",
   "metadata": {},
   "source": [
    "# Random Number Generation\n",
    "\n",
    "We will use an example to illustrate `numpy`'s random number generation capabilities. Suppose we want to simulate the lead time for a part ordered from an external supplier. The lead time consist of three components: 1) the time needed to generate the order, 2) the time needed for the supplier to make the order, and 3) the transit time needed for the order to arrive.  Assume that each component of the lead time is uncertain, and follows a distribution that is known. We want to simulate each component to approximate the convolution that describes the distribution for the overall lead time.\n",
    "\n",
    "The following code block specifies the sample size that we will use in the simulation.\n",
    "\n",
    "** The probability distribution of the sum of two or more independent random variables is the convolution of their individual distributions.**"
   ]
  },
  {
   "cell_type": "code",
   "execution_count": 24,
   "metadata": {},
   "outputs": [],
   "source": [
    "sample_size = 100000"
   ]
  },
  {
   "cell_type": "markdown",
   "metadata": {},
   "source": [
    "The following code block demonstrates the use of the `choice` method from `numpy`'s `random` module to define a custom discrete probability dstribution for the order generation time. The code block actually creates the array or order generation times three times to show that the arrays for each creation differ."
   ]
  },
  {
   "cell_type": "code",
   "execution_count": 25,
   "metadata": {},
   "outputs": [
    {
     "name": "stdout",
     "output_type": "stream",
     "text": [
      "In the first array of order generation times, the proportion of 5's is:\n",
      "0.2993\n",
      "\n",
      "In the second array of order generation times, the proportion of 5's is:\n",
      "0.29793\n",
      "\n",
      "In the third array of order generation times, the proportion of 5's is:\n",
      "0.29878\n"
     ]
    }
   ],
   "source": [
    "support = [1, 2, 3, 4, 5]\n",
    "probabilities = [0.3, 0.2, 0.1, 0.1, 0.3]\n",
    "\n",
    "order_generation_time = np.random.choice(support,\n",
    "                                         size=sample_size,\n",
    "                                         p=probabilities)\n",
    "\n",
    "print('In the first array of order generation times, the proportion of 5\\'s is:')\n",
    "print(np.count_nonzero(order_generation_time[order_generation_time==5])/sample_size)\n",
    "\n",
    "order_generation_time = np.random.choice(support,\n",
    "                                         size=sample_size,\n",
    "                                         p=probabilities)\n",
    "\n",
    "print('\\nIn the second array of order generation times, the proportion of 5\\'s is:')\n",
    "print(np.count_nonzero(order_generation_time[order_generation_time==5])/sample_size)\n",
    "\n",
    "order_generation_time = np.random.choice(support,\n",
    "                                         size=sample_size,\n",
    "                                         p=probabilities)\n",
    "\n",
    "print('\\nIn the third array of order generation times, the proportion of 5\\'s is:')\n",
    "print(np.count_nonzero(order_generation_time[order_generation_time==5])/sample_size)"
   ]
  },
  {
   "cell_type": "markdown",
   "metadata": {},
   "source": [
    "The following code block shows how we can use the `RandomState()` method to generate consistent arrays of order generation times."
   ]
  },
  {
   "cell_type": "code",
   "execution_count": 26,
   "metadata": {},
   "outputs": [
    {
     "name": "stdout",
     "output_type": "stream",
     "text": [
      "In the first array of order generation times, the proportion of 5's is:\n",
      "0.29889\n",
      "\n",
      "In the second array of order generation times, the proportion of 5's is:\n",
      "0.29889\n",
      "\n",
      "In the third array of order generation times, the proportion of 5's is:\n",
      "0.29889\n"
     ]
    }
   ],
   "source": [
    "support = [1, 2, 3, 4, 5]\n",
    "probabilities = [0.3, 0.2, 0.1, 0.1, 0.3]\n",
    "\n",
    "order_generation_time = np.random.RandomState(42).choice(support,\n",
    "                                         size=sample_size,\n",
    "                                         p=probabilities)\n",
    "\n",
    "print('In the first array of order generation times, the proportion of 5\\'s is:')\n",
    "print(np.count_nonzero(order_generation_time[order_generation_time==5])/sample_size)\n",
    "\n",
    "order_generation_time = np.random.RandomState(42).choice(support,\n",
    "                                         size=sample_size,\n",
    "                                         p=probabilities)\n",
    "\n",
    "print('\\nIn the second array of order generation times, the proportion of 5\\'s is:')\n",
    "print(np.count_nonzero(order_generation_time[order_generation_time==5])/sample_size)\n",
    "\n",
    "order_generation_time = np.random.RandomState(42).choice(support,\n",
    "                                         size=sample_size,\n",
    "                                         p=probabilities)\n",
    "\n",
    "print('\\nIn the third array of order generation times, the proportion of 5\\'s is:')\n",
    "print(np.count_nonzero(order_generation_time[order_generation_time==5])/sample_size)"
   ]
  },
  {
   "cell_type": "markdown",
   "metadata": {},
   "source": [
    "The following code block shows how `numpys`'s `random` module may be used to generate an array of order make times that follow a Normal distribution. \n",
    "\n",
    "** Note that we use the `np.maximum` function to ensure that all values are positive.**"
   ]
  },
  {
   "cell_type": "code",
   "execution_count": 27,
   "metadata": {},
   "outputs": [],
   "source": [
    "order_make_time = np.random.RandomState(42).normal(10,4,sample_size)\n",
    "\n",
    "order_make_time = np.maximum(order_make_time,0)"
   ]
  },
  {
   "cell_type": "markdown",
   "metadata": {},
   "source": [
    "Finally, the following code block shows how `numpys`'s `random` module may be used to generate an array of order make times that follow a Triangular distribution. "
   ]
  },
  {
   "cell_type": "code",
   "execution_count": 28,
   "metadata": {},
   "outputs": [],
   "source": [
    "order_transit_time = np.random.RandomState(42).triangular(5,10,25,sample_size)"
   ]
  },
  {
   "cell_type": "markdown",
   "metadata": {},
   "source": [
    "The following code block adds the arrays for the various time components, yielding an array of simulated lead time values."
   ]
  },
  {
   "cell_type": "code",
   "execution_count": 29,
   "metadata": {},
   "outputs": [],
   "source": [
    "lead_time = order_generation_time + order_make_time + order_transit_time"
   ]
  },
  {
   "cell_type": "markdown",
   "metadata": {},
   "source": [
    "The following code block illustrates how the `np.histogram` method works. In particular, note that the histogram method returns two objects, the first of which specifies the frequency for which lead time values occur in each of the bins and the second which specifies the edges for the bins."
   ]
  },
  {
   "cell_type": "code",
   "execution_count": 30,
   "metadata": {},
   "outputs": [
    {
     "data": {
      "text/plain": [
       "(array([   0,    0,    0,    0,    0,    0,    7,   24,   80,  169,  315,\n",
       "         479,  722, 1102, 1521, 2055, 2593, 3255, 3829, 4200, 4835, 5038,\n",
       "        5204, 5222, 5100, 5108, 4932, 4732, 4561, 4375, 4156, 3876, 3730,\n",
       "        3408, 3178, 2759, 2288, 1903, 1519, 1116,  818,  653,  417,  311,\n",
       "         167,  112,   61,   38,   21,   10,    0,    1,    0], dtype=int64),\n",
       " array([  0.,   1.,   2.,   3.,   4.,   5.,   6.,   7.,   8.,   9.,  10.,\n",
       "         11.,  12.,  13.,  14.,  15.,  16.,  17.,  18.,  19.,  20.,  21.,\n",
       "         22.,  23.,  24.,  25.,  26.,  27.,  28.,  29.,  30.,  31.,  32.,\n",
       "         33.,  34.,  35.,  36.,  37.,  38.,  39.,  40.,  41.,  42.,  43.,\n",
       "         44.,  45.,  46.,  47.,  48.,  49.,  50.,  51.,  52.,  53.]))"
      ]
     },
     "execution_count": 30,
     "metadata": {},
     "output_type": "execute_result"
    }
   ],
   "source": [
    "np.histogram(lead_time,bins=np.arange(lead_time.max()+2))"
   ]
  },
  {
   "cell_type": "markdown",
   "metadata": {},
   "source": [
    "The following code block shows that we may assign the two objects returned by the `np.histogram` function to named objects that can be referenced later. Also, we use the `density` argument to convert the frequencies to proportions."
   ]
  },
  {
   "cell_type": "code",
   "execution_count": 31,
   "metadata": {},
   "outputs": [
    {
     "name": "stdout",
     "output_type": "stream",
     "text": [
      "The hist object follows:\n",
      "[  0.00000000e+00   0.00000000e+00   0.00000000e+00   0.00000000e+00\n",
      "   0.00000000e+00   0.00000000e+00   7.00000000e-05   2.40000000e-04\n",
      "   8.00000000e-04   1.69000000e-03   3.15000000e-03   4.79000000e-03\n",
      "   7.22000000e-03   1.10200000e-02   1.52100000e-02   2.05500000e-02\n",
      "   2.59300000e-02   3.25500000e-02   3.82900000e-02   4.20000000e-02\n",
      "   4.83500000e-02   5.03800000e-02   5.20400000e-02   5.22200000e-02\n",
      "   5.10000000e-02   5.10800000e-02   4.93200000e-02   4.73200000e-02\n",
      "   4.56100000e-02   4.37500000e-02   4.15600000e-02   3.87600000e-02\n",
      "   3.73000000e-02   3.40800000e-02   3.17800000e-02   2.75900000e-02\n",
      "   2.28800000e-02   1.90300000e-02   1.51900000e-02   1.11600000e-02\n",
      "   8.18000000e-03   6.53000000e-03   4.17000000e-03   3.11000000e-03\n",
      "   1.67000000e-03   1.12000000e-03   6.10000000e-04   3.80000000e-04\n",
      "   2.10000000e-04   1.00000000e-04   0.00000000e+00   1.00000000e-05\n",
      "   0.00000000e+00]\n",
      "Note that the hist object has 53 entries!\n",
      "\n",
      "The bin_edges object follows:\n",
      "[  0.00000000e+00   0.00000000e+00   0.00000000e+00   0.00000000e+00\n",
      "   0.00000000e+00   0.00000000e+00   7.00000000e-05   2.40000000e-04\n",
      "   8.00000000e-04   1.69000000e-03   3.15000000e-03   4.79000000e-03\n",
      "   7.22000000e-03   1.10200000e-02   1.52100000e-02   2.05500000e-02\n",
      "   2.59300000e-02   3.25500000e-02   3.82900000e-02   4.20000000e-02\n",
      "   4.83500000e-02   5.03800000e-02   5.20400000e-02   5.22200000e-02\n",
      "   5.10000000e-02   5.10800000e-02   4.93200000e-02   4.73200000e-02\n",
      "   4.56100000e-02   4.37500000e-02   4.15600000e-02   3.87600000e-02\n",
      "   3.73000000e-02   3.40800000e-02   3.17800000e-02   2.75900000e-02\n",
      "   2.28800000e-02   1.90300000e-02   1.51900000e-02   1.11600000e-02\n",
      "   8.18000000e-03   6.53000000e-03   4.17000000e-03   3.11000000e-03\n",
      "   1.67000000e-03   1.12000000e-03   6.10000000e-04   3.80000000e-04\n",
      "   2.10000000e-04   1.00000000e-04   0.00000000e+00   1.00000000e-05\n",
      "   0.00000000e+00]\n",
      "Note that the bin_edges object has 54 entries!\n"
     ]
    }
   ],
   "source": [
    "hist, bin_edges = np.histogram(lead_time,\n",
    "                               bins=np.arange(lead_time.max()+2),\n",
    "                               density=True\n",
    "                              )\n",
    "\n",
    "print('The hist object follows:')\n",
    "print(hist)\n",
    "\n",
    "print('Note that the hist object has {} entries!'.format(hist.size))\n",
    "\n",
    "print('\\nThe bin_edges object follows:')\n",
    "print(hist)\n",
    "\n",
    "print('Note that the bin_edges object has {} entries!'.format(bin_edges.size))"
   ]
  },
  {
   "cell_type": "markdown",
   "metadata": {},
   "source": [
    "The following code block shows how the objects created from the `np.histogram` method may be used to plot the distribution for the lead time. An important thing to note is that the first argument of the `bar` method is a sequnce of scalars that represent the centers for the bars. We pass the bin edges for this sequence, but use the `[:-1]` slicing notation to include all but the last value. This is necessary so that the number of bars we specifiy matches the number of heights specified in the `hist` object (notice in previous code block that the two arrays differ in size). "
   ]
  },
  {
   "cell_type": "code",
   "execution_count": 32,
   "metadata": {},
   "outputs": [
    {
     "data": {
      "image/png": "[encoded data removed]",
      "text/plain": [
       "<matplotlib.figure.Figure at 0x1c58d811748>"
      ]
     },
     "metadata": {},
     "output_type": "display_data"
    }
   ],
   "source": [
    "fig, ax = plt.subplots(1, 1, figsize = (15,10))\n",
    "\n",
    "ax.bar(bin_edges[:-1], hist, width = 1, edgecolor='k')\n",
    "ax.set_title('Lead Time',fontsize = 20)\n",
    "ax.set_xlabel('Days',fontsize = 20)\n",
    "ax.set_ylabel('Likelihood',fontsize = 20)\n",
    "ax.xaxis.set_tick_params(labelsize=20)\n",
    "ax.yaxis.set_tick_params(labelsize=20)\n",
    "plt.show() "
   ]
  },
  {
   "cell_type": "markdown",
   "metadata": {},
   "source": [
    "The following code block shows how to use sublots to visualize the distributions for all three components and the lead time simultaneously."
   ]
  },
  {
   "cell_type": "code",
   "execution_count": 33,
   "metadata": {},
   "outputs": [
    {
     "data": {
      "image/png": "[encoded data removed]",
      "text/plain": [
       "<matplotlib.figure.Figure at 0x1c58f2c9b38>"
      ]
     },
     "metadata": {},
     "output_type": "display_data"
    }
   ],
   "source": [
    "fig, ((ax1,ax2),(ax3,ax4)) = plt.subplots(2, 2, figsize = (15,10))\n",
    "\n",
    "############################################\n",
    "hist, bin_edges = np.histogram(order_generation_time,\n",
    "                               bins=np.arange(lead_time.max()+2),\n",
    "                               density=True\n",
    "                              )\n",
    "\n",
    "ax1.bar(bin_edges[:-1], hist, width = 1, edgecolor='k')\n",
    "ax1.set_title('Order Generation Time',fontsize = 20)\n",
    "ax1.set_xlabel('Days',fontsize = 20)\n",
    "ax1.set_ylabel('Likelihood',fontsize = 20)\n",
    "ax1.xaxis.set_tick_params(labelsize=20)\n",
    "ax1.yaxis.set_tick_params(labelsize=20)\n",
    "\n",
    "############################################\n",
    "hist, bin_edges = np.histogram(order_make_time,\n",
    "                               bins=np.arange(lead_time.max()+2),\n",
    "                               density=True\n",
    "                              )\n",
    "\n",
    "ax2.bar(bin_edges[:-1], hist, width = 1, edgecolor='k')\n",
    "ax2.set_title('Order Make Time',fontsize = 20)\n",
    "ax2.set_xlabel('Days',fontsize = 20)\n",
    "ax2.set_ylabel('Likelihood',fontsize = 20)\n",
    "ax2.xaxis.set_tick_params(labelsize=20)\n",
    "ax2.yaxis.set_tick_params(labelsize=20)\n",
    "\n",
    "############################################\n",
    "hist, bin_edges = np.histogram(order_transit_time,\n",
    "                               bins=np.arange(lead_time.max()+2),\n",
    "                               density=True\n",
    "                              )\n",
    "\n",
    "ax3.bar(bin_edges[:-1],hist, width = 1, edgecolor='k')\n",
    "ax3.set_title('Order Transit Time',fontsize = 20)\n",
    "ax3.set_xlabel('Days',fontsize = 20)\n",
    "ax3.set_ylabel('Likelihood',fontsize = 20)\n",
    "ax3.xaxis.set_tick_params(labelsize=20)\n",
    "ax3.yaxis.set_tick_params(labelsize=20)\n",
    "\n",
    "############################################\n",
    "hist, bin_edges = np.histogram(lead_time,\n",
    "                               bins=np.arange(lead_time.max()+2),\n",
    "                               density=True\n",
    "                              )\n",
    "\n",
    "ax4.bar(bin_edges[:-1],hist, width = 1, edgecolor='k')\n",
    "ax4.set_title('Lead Time',fontsize = 20)\n",
    "ax4.set_xlabel('Days',fontsize = 20)\n",
    "ax4.set_ylabel('Likelihood',fontsize = 20)\n",
    "ax4.xaxis.set_tick_params(labelsize=20)\n",
    "ax4.yaxis.set_tick_params(labelsize=20)\n",
    "\n",
    "plt.tight_layout()\n",
    "plt.show() "
   ]
  },
  {
   "cell_type": "markdown",
   "metadata": {},
   "source": [
    "The following code block imbeds the random number generation and plotting in an interactive widget that allows you to see the impact of varying the sample size."
   ]
  },
  {
   "cell_type": "code",
   "execution_count": 34,
   "metadata": {},
   "outputs": [
    {
     "data": {
      "application/vnd.jupyter.widget-view+json": {
       "model_id": "8a79e4aece7f43e981a13cd4758a3a8a",
       "version_major": 2,
       "version_minor": 0
      },
      "text/plain": [
       "A Jupyter Widget"
      ]
     },
     "metadata": {},
     "output_type": "display_data"
    }
   ],
   "source": [
    "# Import libraries for widgets\n",
    "from ipywidgets import interact, widgets\n",
    "\n",
    "# Specify parameters for widget layout\n",
    "widget_layout = widgets.Layout(width='500px', height='40px')\n",
    "\n",
    "# Define interact function with widgets for dimension and cutoff\n",
    "# For each widget, the 'description' setting defines the text that will be \n",
    "# displayed by the associated widget,\n",
    "# the 'value' setting defines the default values,\n",
    "# and we use the 'layout' option to pass the size parameter settings we \n",
    "# defined earlier.\n",
    "# The int slider widget has min, max and step settings\n",
    "@interact(samples = widgets.IntSlider(description='Sample Size:',\\\n",
    "                                            min=25,\\\n",
    "                                            max=1000,\\\n",
    "                                            step=25,\\\n",
    "                                            value=5,\\\n",
    "                                            layout=widget_layout))\n",
    "\n",
    "def simulate(samples):\n",
    "    order_generation_time = np.random.RandomState(42).choice(support, size=samples,\n",
    "                                                             p=probabilities)\n",
    "\n",
    "    order_make_time = np.random.RandomState(42).normal(10,4,samples)\n",
    "\n",
    "    order_transit_time = np.random.RandomState(42).triangular(5,10,25,samples)\n",
    "\n",
    "    lead_time = order_generation_time + order_make_time + order_transit_time\n",
    "\n",
    "    fig, ((ax1,ax2),(ax3,ax4)) = plt.subplots(2, 2, figsize = (15,10))\n",
    "\n",
    "    ############################################\n",
    "    hist, bin_edges = np.histogram(order_generation_time,\n",
    "                                   bins=np.arange(lead_time.max()+2),\n",
    "                                   density=True\n",
    "                                  )\n",
    "\n",
    "    ax1.bar(bin_edges[:-1], hist, width = 1, edgecolor='k')\n",
    "    ax1.set_title('Order Generation Time',fontsize = 20)\n",
    "    ax1.set_xlabel('Days',fontsize = 20)\n",
    "    ax1.set_ylabel('Likelihood',fontsize = 20)\n",
    "    ax1.xaxis.set_tick_params(labelsize=20)\n",
    "    ax1.yaxis.set_tick_params(labelsize=20)\n",
    "\n",
    "    ############################################\n",
    "    hist, bin_edges = np.histogram(order_make_time,\n",
    "                                   bins=np.arange(lead_time.max()+2),\n",
    "                                   density=True\n",
    "                                  )\n",
    "\n",
    "    ax2.bar(bin_edges[:-1], hist, width = 1, edgecolor='k')\n",
    "    ax2.set_title('Order Make Time',fontsize = 20)\n",
    "    ax2.set_xlabel('Days',fontsize = 20)\n",
    "    ax2.set_ylabel('Likelihood',fontsize = 20)\n",
    "    ax2.xaxis.set_tick_params(labelsize=20)\n",
    "    ax2.yaxis.set_tick_params(labelsize=20)\n",
    "\n",
    "    ############################################\n",
    "    hist, bin_edges = np.histogram(order_transit_time,\n",
    "                                   bins=np.arange(lead_time.max()+2),\n",
    "                                   density=True\n",
    "                                  )\n",
    "\n",
    "    ax3.bar(bin_edges[:-1],hist, width = 1, edgecolor='k')\n",
    "    ax3.set_title('Order Transit Time',fontsize = 20)\n",
    "    ax3.set_xlabel('Days',fontsize = 20)\n",
    "    ax3.set_ylabel('Likelihood',fontsize = 20)\n",
    "    ax3.xaxis.set_tick_params(labelsize=20)\n",
    "    ax3.yaxis.set_tick_params(labelsize=20)\n",
    "\n",
    "    ############################################\n",
    "    hist, bin_edges = np.histogram(lead_time,\n",
    "                                   bins=np.arange(lead_time.max()+2),\n",
    "                                   density=True\n",
    "                                  )\n",
    "\n",
    "    ax4.bar(bin_edges[:-1],hist, width = 1, edgecolor='k')\n",
    "    ax4.set_title('Lead Time',fontsize = 20)\n",
    "    ax4.set_xlabel('Days',fontsize = 20)\n",
    "    ax4.set_ylabel('Likelihood',fontsize = 20)\n",
    "    ax4.xaxis.set_tick_params(labelsize=20)\n",
    "    ax4.yaxis.set_tick_params(labelsize=20)\n",
    "\n",
    "    plt.tight_layout()\n",
    "    plt.show() "
   ]
  },
  {
   "cell_type": "code",
   "execution_count": null,
   "metadata": {},
   "outputs": [],
   "source": []
  }
 ],
 "metadata": {
  "kernelspec": {
   "display_name": "Python 3",
   "language": "python",
   "name": "python3"
  },
  "language_info": {
   "codemirror_mode": {
    "name": "ipython",
    "version": 3
   },
   "file_extension": ".py",
   "mimetype": "text/x-python",
   "name": "python",
   "nbconvert_exporter": "python",
   "pygments_lexer": "ipython3",
   "version": "3.6.2"
  }
 },
 "nbformat": 4,
 "nbformat_minor": 2
}
