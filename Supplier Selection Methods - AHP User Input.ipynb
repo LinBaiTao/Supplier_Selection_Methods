{
 "cells": [
  {
   "cell_type": "markdown",
   "metadata": {},
   "source": [
    "# Supplier Selection Methods - AHP User Input\n",
    "Prepared by: Nickolas Freeman, Ph.D.\n",
    "\n",
    "This workbook implements a single-level Analytic Hierarcy Process (AHP) for a problem input by a user. By single-level, I mean that the problem involves a single goal, a single set of criteria (no sub-criteria), and a single set of alternatives. This notebook is intended to be an extension of the AHP tutorial given in the \"Supplier Selection Methods - AHP Introduction\" notebook. Since this is an extension, calculation details are excluded and the notebook. For details on the procedure, please see the aforementioned notebook, which follows a tutorial format.\n",
    "\n",
    "**Note: The posted version of this workbook is populated with data for an example with 2 criteria (A and B) and 3 alternatives (X, Y, and Z)**\n",
    "\n",
    "The following code block imports the libraries we will be using."
   ]
  },
  {
   "cell_type": "code",
   "execution_count": 1,
   "metadata": {},
   "outputs": [],
   "source": [
    "import numpy as np\n",
    "import pandas as pd"
   ]
  },
  {
   "cell_type": "markdown",
   "metadata": {},
   "source": [
    "The following code block allows a user to specify the number of criteria that they will consider when evaluating alternatives."
   ]
  },
  {
   "cell_type": "code",
   "execution_count": 2,
   "metadata": {},
   "outputs": [
    {
     "name": "stdout",
     "output_type": "stream",
     "text": [
      "Please enter the number of criteria you want to consider: 2\n"
     ]
    }
   ],
   "source": [
    "print(\"Please enter the number of criteria you want to consider:\",end=' ')\n",
    "\n",
    "number_of_criteria = int(input())"
   ]
  },
  {
   "cell_type": "markdown",
   "metadata": {},
   "source": [
    "The following code block allows a user to specify names for each of the criteria."
   ]
  },
  {
   "cell_type": "code",
   "execution_count": 3,
   "metadata": {},
   "outputs": [
    {
     "name": "stdout",
     "output_type": "stream",
     "text": [
      "\n",
      "You will now be asked to specify names for the 2 criteria.\n",
      "For simplicity, it is advised that you enter criteria in order of most to least important\n",
      "\n",
      "Enter name for criteria 1 : A\n",
      "Enter name for criteria 2 : B\n"
     ]
    }
   ],
   "source": [
    "criteria_names = []\n",
    "print(\"\\nYou will now be asked to specify names for the {} criteria.\".format(number_of_criteria))\n",
    "print(\"For simplicity, it is advised that you enter criteria in order of most to least important\\n\")\n",
    "for i in range(number_of_criteria):\n",
    "    print(\"Enter name for criteria\",i+1,\":\",end=\" \")\n",
    "    name = input()\n",
    "    criteria_names.append(name)"
   ]
  },
  {
   "cell_type": "markdown",
   "metadata": {},
   "source": [
    "The following code block guides the user through the process of ranking the specified criteria relative to one another. The specified rankings are used to create a priority vector for the criteria and verify that the specified rankings are consistent."
   ]
  },
  {
   "cell_type": "code",
   "execution_count": 4,
   "metadata": {},
   "outputs": [
    {
     "name": "stdout",
     "output_type": "stream",
     "text": [
      "You will now be asked to rank the criteria relative to one another on importance to the overall objective of the selection.\n",
      "When ranking alternatives, please use the following scale:\n",
      "\n",
      "----------------------------------------------------------------------------\n",
      "1         - The two criteria contribute equally to the objective\n",
      "3 (0.333) - The first (second) criteria is slightly more important to the objective\n",
      "5 (0.20)  - The first (second) criteria is moderately more important to the objective\n",
      "7 (0.143) - The first (second) criteria is strongly more important to the objective\n",
      "9 (0.111) - The first (second) criteria is extremely more important to the objective\n",
      "----------------------------------------------------------------------------\n",
      "\n",
      "How do you rank criteria A relative to criteria B? 3\n",
      "The priority vector for the provided rankings is [ 0.75  0.25].\n"
     ]
    }
   ],
   "source": [
    "criteria_scores = np.zeros((number_of_criteria,number_of_criteria))\n",
    "\n",
    "print(\"\"\"You will now be asked to rank the criteria relative to one another on importance to the overall objective of the selection.\"\"\")\n",
    "print(\"When ranking alternatives, please use the following scale:\\n\")\n",
    "print(\"----------------------------------------------------------------------------\")\n",
    "print(\"1         - The two criteria contribute equally to the objective\")\n",
    "print(\"3 (0.333) - The first (second) criteria is slightly more important to the objective\")\n",
    "print(\"5 (0.20)  - The first (second) criteria is moderately more important to the objective\")\n",
    "print(\"7 (0.143) - The first (second) criteria is strongly more important to the objective\")\n",
    "print(\"9 (0.111) - The first (second) criteria is extremely more important to the objective\")\n",
    "print(\"----------------------------------------------------------------------------\\n\")\n",
    "for i in range(number_of_criteria):\n",
    "    for j in range(number_of_criteria):\n",
    "        if (i==j):\n",
    "            criteria_scores[i,j]=1\n",
    "        if (j>i):\n",
    "            print(\"How do you rank criteria {} relative to criteria {}?\".format(criteria_names[i],criteria_names[j]),end=\" \")\n",
    "            criteria_scores[i,j] = input()\n",
    "        else:\n",
    "            criteria_scores[i,j] = 1/criteria_scores[j,i]\n",
    "            \n",
    "criteria_column_sums = np.sum(criteria_scores,axis=0)\n",
    "criteria_scores_divided_by_sums = criteria_scores/criteria_column_sums\n",
    "criteria_priority_vector = np.average(criteria_scores_divided_by_sums,axis=1)\n",
    "print(\"The priority vector for the provided rankings is {}.\".format(criteria_priority_vector))\n",
    "\n",
    "\n",
    "if(number_of_criteria >2):\n",
    "    criteria_max_eigenvalue = np.inner(criteria_priority_vector,criteria_column_sums)\n",
    "    criteria_CI = (criteria_max_eigenvalue - number_of_criteria)/(number_of_criteria-1)\n",
    "    RI = [0,0,0,0.58,0.9,1.12,1.24,1.32,1.41,1.45,1.49] \n",
    "    criteria_CR = criteria_CI/RI[number_of_criteria]\n",
    "\n",
    "    if(criteria_CR < 0.10):\n",
    "        print(\"The consistency ratio is {}. Thus, the specified preferences are consistent!\"\\\n",
    "              .format(criteria_CR))\n",
    "    else:\n",
    "        print(\"The consistency ratio is {}. Thus, the specified preferences are not consistent!\"\\\n",
    "              .format(criteria_CR))"
   ]
  },
  {
   "cell_type": "markdown",
   "metadata": {},
   "source": [
    "The following code block allows a user to specify the number of alternatives they wish to consider."
   ]
  },
  {
   "cell_type": "code",
   "execution_count": 5,
   "metadata": {},
   "outputs": [
    {
     "name": "stdout",
     "output_type": "stream",
     "text": [
      "Please enter the number of alternatives you want to consider:\n",
      "3\n"
     ]
    }
   ],
   "source": [
    "print(\"Please enter the number of alternatives you want to consider:\")\n",
    "number_of_alternatives = int(input())"
   ]
  },
  {
   "cell_type": "markdown",
   "metadata": {},
   "source": [
    "The following code block allows a user to specify names for each of the alternatives."
   ]
  },
  {
   "cell_type": "code",
   "execution_count": 6,
   "metadata": {},
   "outputs": [
    {
     "name": "stdout",
     "output_type": "stream",
     "text": [
      "You will now be asked to specify names for the 3 alternatives.\n",
      "\n",
      "Enter name for alternative 1 : X\n",
      "Enter name for alternative 2 : Y\n",
      "Enter name for alternative 3 : Z\n"
     ]
    }
   ],
   "source": [
    "alternative_names = []\n",
    "print(\"You will now be asked to specify names for the {} alternatives.\\n\".format(number_of_alternatives))\n",
    "for i in range(number_of_alternatives):\n",
    "    print(\"Enter name for alternative\",i+1,\":\",end=' ')\n",
    "    name = input()\n",
    "    alternative_names.append(name)"
   ]
  },
  {
   "cell_type": "markdown",
   "metadata": {},
   "source": [
    "The following code block guides the user through the process of ranking the specified alternative, relative to one another, on the specified criteria. The specified rankings are used to create a priority vector for the alternatives."
   ]
  },
  {
   "cell_type": "code",
   "execution_count": 7,
   "metadata": {},
   "outputs": [
    {
     "name": "stdout",
     "output_type": "stream",
     "text": [
      "You will now be asked to rank the alternatives relative to one another with respect to each of the previously defined criteria.\n",
      "When ranking alternatives, please use the following scale:\n",
      "\n",
      "----------------------------------------------------------------------------\n",
      "1         - The two alternatives perform equally as well with respect to the criteria\n",
      "3 (0.333) - The first (second) alternative performs slightly better with respect to the criteria\n",
      "5 (0.20)  - The first (second) alternative performs moderately better with respect to the criteria\n",
      "7 (0.143) - The first (second) alternative is strongly better with respect to the criteria\n",
      "9 (0.111) - The first (second) alternative is extremely better with respect to the criteria\n",
      "----------------------------------------------------------------------------\n",
      "\n",
      "How do you rank alternative X relative to alternative Y, with respect to criteria A? 1\n",
      "How do you rank alternative X relative to alternative Z, with respect to criteria A? 7\n",
      "How do you rank alternative Y relative to alternative Z, with respect to criteria A? 3\n",
      "The consistency ratio is 0.08966038522688702. Thus, the specified preferences are consistent!\n",
      "\n",
      "How do you rank alternative X relative to alternative Y, with respect to criteria B? 0.2\n",
      "How do you rank alternative X relative to alternative Z, with respect to criteria B? 0.5\n",
      "How do you rank alternative Y relative to alternative Z, with respect to criteria B? 5\n",
      "The consistency ratio is 0.07578628268283452. Thus, the specified preferences are consistent!\n",
      "\n"
     ]
    }
   ],
   "source": [
    "Alternatives_Priority_Vector_Dict = {}\n",
    "\n",
    "print(\"\"\"You will now be asked to rank the alternatives relative to one another with respect to each of the previously defined criteria.\"\"\")\n",
    "print(\"When ranking alternatives, please use the following scale:\\n\")\n",
    "print(\"----------------------------------------------------------------------------\")\n",
    "print(\"1         - The two alternatives perform equally as well with respect to the criteria\")\n",
    "print(\"3 (0.333) - The first (second) alternative performs slightly better with respect to the criteria\")\n",
    "print(\"5 (0.20)  - The first (second) alternative performs moderately better with respect to the criteria\")\n",
    "print(\"7 (0.143) - The first (second) alternative is strongly better with respect to the criteria\")\n",
    "print(\"9 (0.111) - The first (second) alternative is extremely better with respect to the criteria\")\n",
    "print(\"----------------------------------------------------------------------------\\n\")\n",
    "\n",
    "for current_criteria in range(number_of_criteria):\n",
    "    alternative_scores = np.zeros((len(alternative_names),len(alternative_names)))\n",
    "\n",
    "    for i in range(number_of_alternatives):\n",
    "        for j in range(number_of_alternatives):\n",
    "            if (i==j):\n",
    "                alternative_scores[i,j]=1\n",
    "            if (j>i):\n",
    "                print(\"How do you rank alternative {} relative to alternative {}, with respect to criteria {}?\"\\\n",
    "                      .format(alternative_names[i],alternative_names[j],criteria_names[current_criteria]), end=' ')\n",
    "                alternative_scores[i,j] = input()\n",
    "            else:\n",
    "                alternative_scores[i,j] = 1/alternative_scores[j,i]\n",
    "    column_sums = np.sum(alternative_scores,axis=0)\n",
    "    scores_divided_by_sums = alternative_scores/column_sums\n",
    "    Alternatives_priority_vector = (1/number_of_alternatives)*np.sum(scores_divided_by_sums,axis=1)\n",
    "    Alternatives_Priority_Vector_Dict[criteria_names[current_criteria]] = Alternatives_priority_vector\n",
    "    \n",
    "    if(number_of_alternatives >2):\n",
    "        alternatives_max_eigenvalue = np.inner(Alternatives_priority_vector,column_sums)\n",
    "        alternatives_CI = (alternatives_max_eigenvalue - number_of_alternatives)/(number_of_alternatives-1)\n",
    "        RI = [0,0,0,0.58,0.9,1.12,1.24,1.32,1.41,1.45,1.49] \n",
    "        alternatives_CR = alternatives_CI/RI[number_of_alternatives]\n",
    "\n",
    "        if(alternatives_CR < 0.10):\n",
    "            print(\"The consistency ratio is {}. Thus, the specified preferences are consistent!\\n\"\\\n",
    "                  .format(alternatives_CR))\n",
    "        else:\n",
    "            print(\"The consistency ratio is {}. Thus, the specified preferences are not consistent!\\n\"\\\n",
    "                  .format(alternatives_CR))"
   ]
  },
  {
   "cell_type": "markdown",
   "metadata": {},
   "source": [
    "Using the previously calculated priority vectors, the following code block scores the specified alternatives."
   ]
  },
  {
   "cell_type": "code",
   "execution_count": 8,
   "metadata": {},
   "outputs": [
    {
     "name": "stdout",
     "output_type": "stream",
     "text": [
      "X score is 0.4116321178821178.\n",
      "Y score is 0.4677010489510489.\n",
      "Z score is 0.12066683316683316.\n",
      "Total score is 0.9999999999999999.\n"
     ]
    }
   ],
   "source": [
    "Total_Score = 0\n",
    "for i in range(number_of_alternatives):\n",
    "    Weighted_Score = 0\n",
    "    for current_criteria in range(number_of_criteria):\n",
    "        Weighted_Score += Alternatives_Priority_Vector_Dict[criteria_names[current_criteria]][i]\\\n",
    "        *criteria_priority_vector[current_criteria]\n",
    "    Total_Score += Weighted_Score\n",
    "    print(\"{} score is {}.\".format(alternative_names[i],Weighted_Score))\n",
    "print(\"Total score is {}.\".format(Total_Score))"
   ]
  },
  {
   "cell_type": "markdown",
   "metadata": {},
   "source": [
    "The following code block defines a function that performs the previously described analysis for a user-specified number of criteria and alternatives."
   ]
  },
  {
   "cell_type": "code",
   "execution_count": 9,
   "metadata": {},
   "outputs": [],
   "source": [
    "def Single_Level_AHP_No_Rankings(num_criteria,num_alternatives):\n",
    "    number_of_criteria = num_criteria\n",
    "    criteria_names = []\n",
    "    print(\"You will now be asked to specify names for the {} criteria.\".format(number_of_criteria))\n",
    "    print(\"For simplicity, it is advised that you enter criteria in order of most to least important\\n\")\n",
    "    for i in range(number_of_criteria):\n",
    "        print(\"Enter name for criteria\",i+1,\":\",end=\" \")\n",
    "        name = input()\n",
    "        criteria_names.append(name)\n",
    "    \n",
    "    criteria_scores = np.zeros((number_of_criteria,number_of_criteria))\n",
    "\n",
    "    print(\"\"\"\\nYou will now be asked to rank the criteria relative to one another on importance to the overall objective of the selection.\"\"\")\n",
    "    print(\"When ranking alternatives, please use the following scale:\\n\")\n",
    "    print(\"----------------------------------------------------------------------------\")\n",
    "    print(\"1         - The two criteria contribute equally to the objective\")\n",
    "    print(\"3 (0.333) - The first (second) criteria is slightly more important to the objective\")\n",
    "    print(\"5 (0.20)  - The first (second) criteria is moderately more important to the objective\")\n",
    "    print(\"7 (0.143) - The first (second) criteria is strongly more important to the objective\")\n",
    "    print(\"9 (0.111) - The first (second) criteria is extremely more important to the objective\")\n",
    "    print(\"----------------------------------------------------------------------------\\n\")\n",
    "    for i in range(number_of_criteria):\n",
    "        for j in range(number_of_criteria):\n",
    "            if (i==j):\n",
    "                criteria_scores[i,j]=1\n",
    "            if (j>i):\n",
    "                print(\"How do you rank criteria {} relative to criteria {}?\".format(criteria_names[i],criteria_names[j]),end=\" \")\n",
    "                criteria_scores[i,j] = input()\n",
    "            else:\n",
    "                criteria_scores[i,j] = 1/criteria_scores[j,i]\n",
    "\n",
    "    criteria_column_sums = np.sum(criteria_scores,axis=0)\n",
    "    criteria_scores_divided_by_sums = criteria_scores/criteria_column_sums\n",
    "    criteria_priority_vector = np.average(criteria_scores_divided_by_sums,axis=1)\n",
    "    print(\"The priority vector for the provided rankings is {}.\".format(criteria_priority_vector))\n",
    "\n",
    "\n",
    "    if(number_of_criteria >2):\n",
    "        criteria_max_eigenvalue = np.inner(criteria_priority_vector,criteria_column_sums)\n",
    "        criteria_CI = (criteria_max_eigenvalue - number_of_criteria)/(number_of_criteria-1)\n",
    "        RI = [0,0,0,0.58,0.9,1.12,1.24,1.32,1.41,1.45,1.49] \n",
    "        criteria_CR = criteria_CI/RI[number_of_criteria]\n",
    "\n",
    "        if(criteria_CR < 0.10):\n",
    "            print(\"The consistency ratio is {}. Thus, the specified preferences are consistent!\"\\\n",
    "                  .format(criteria_CR))\n",
    "        else:\n",
    "            print(\"The consistency ratio is {}. Thus, the specified preferences are not consistent!\"\\\n",
    "                  .format(criteria_CR))\n",
    "            \n",
    "    number_of_alternatives = num_alternatives\n",
    "    \n",
    "    alternative_names = []\n",
    "    print(\"\\nYou will now be asked to specify names for the {} alternatives.\\n\".format(number_of_alternatives))\n",
    "    for i in range(number_of_alternatives):\n",
    "        print(\"Enter name for alternative\",i+1,\":\",end=' ')\n",
    "        name = input()\n",
    "        alternative_names.append(name)\n",
    "        \n",
    "    Alternatives_Priority_Vector_Dict = {}\n",
    "\n",
    "    print(\"\"\"\\nYou will now be asked to rank the alternatives relative to one another with respect to each of the previously defined criteria.\"\"\")\n",
    "    print(\"When ranking alternatives, please use the following scale:\\n\")\n",
    "    print(\"----------------------------------------------------------------------------\")\n",
    "    print(\"1         - The two alternatives perform equally as well with respect to the criteria\")\n",
    "    print(\"3 (0.333) - The first (second) alternative performs slightly better with respect to the criteria\")\n",
    "    print(\"5 (0.20)  - The first (second) alternative performs moderately better with respect to the criteria\")\n",
    "    print(\"7 (0.143) - The first (second) alternative is strongly better with respect to the criteria\")\n",
    "    print(\"9 (0.111) - The first (second) alternative is extremely better with respect to the criteria\")\n",
    "    print(\"----------------------------------------------------------------------------\\n\")\n",
    "\n",
    "    for current_criteria in range(number_of_criteria):\n",
    "        alternative_scores = np.zeros((len(alternative_names),len(alternative_names)))\n",
    "\n",
    "        for i in range(number_of_alternatives):\n",
    "            for j in range(number_of_alternatives):\n",
    "                if (i==j):\n",
    "                    alternative_scores[i,j]=1\n",
    "                if (j>i):\n",
    "                    print(\"How do you rank alternative {} relative to alternative {}, with respect to criteria {}?\"\\\n",
    "                          .format(alternative_names[i],alternative_names[j],criteria_names[current_criteria]), end=' ')\n",
    "                    alternative_scores[i,j] = input()\n",
    "                else:\n",
    "                    alternative_scores[i,j] = 1/alternative_scores[j,i]\n",
    "        column_sums = np.sum(alternative_scores,axis=0)\n",
    "        scores_divided_by_sums = alternative_scores/column_sums\n",
    "        Alternatives_priority_vector = (1/number_of_alternatives)*np.sum(scores_divided_by_sums,axis=1)\n",
    "        Alternatives_Priority_Vector_Dict[criteria_names[current_criteria]] = Alternatives_priority_vector\n",
    "\n",
    "        if(number_of_alternatives >2):\n",
    "            alternatives_max_eigenvalue = np.inner(Alternatives_priority_vector,column_sums)\n",
    "            alternatives_CI = (alternatives_max_eigenvalue - number_of_alternatives)/(number_of_alternatives-1)\n",
    "            RI = [0,0,0,0.58,0.9,1.12,1.24,1.32,1.41,1.45,1.49] \n",
    "            alternatives_CR = alternatives_CI/RI[number_of_alternatives]\n",
    "\n",
    "            if(alternatives_CR < 0.10):\n",
    "                print(\"The consistency ratio is {}. Thus, the specified preferences are consistent!\\n\"\\\n",
    "                      .format(alternatives_CR))\n",
    "            else:\n",
    "                print(\"The consistency ratio is {}. Thus, the specified preferences are not consistent!\\n\"\\\n",
    "                      .format(alternatives_CR))\n",
    "    Total_Score = 0\n",
    "    for i in range(number_of_alternatives):\n",
    "        Weighted_Score = 0\n",
    "        for current_criteria in range(number_of_criteria):\n",
    "            Weighted_Score += Alternatives_Priority_Vector_Dict[criteria_names[current_criteria]][i]\\\n",
    "            *criteria_priority_vector[current_criteria]\n",
    "        Total_Score += Weighted_Score\n",
    "        print(\"{} score is {}.\".format(alternative_names[i],Weighted_Score))\n",
    "    print(\"Total score is {}.\".format(Total_Score))"
   ]
  },
  {
   "cell_type": "markdown",
   "metadata": {},
   "source": [
    "The following code block solve the same instance using the `Single_Level_AHP_No_Rankings` function."
   ]
  },
  {
   "cell_type": "code",
   "execution_count": 12,
   "metadata": {},
   "outputs": [
    {
     "name": "stdout",
     "output_type": "stream",
     "text": [
      "You will now be asked to specify names for the 2 criteria.\n",
      "For simplicity, it is advised that you enter criteria in order of most to least important\n",
      "\n",
      "Enter name for criteria 1 : A\n",
      "Enter name for criteria 2 : B\n",
      "\n",
      "You will now be asked to rank the criteria relative to one another on importance to the overall objective of the selection.\n",
      "When ranking alternatives, please use the following scale:\n",
      "\n",
      "----------------------------------------------------------------------------\n",
      "1         - The two criteria contribute equally to the objective\n",
      "3 (0.333) - The first (second) criteria is slightly more important to the objective\n",
      "5 (0.20)  - The first (second) criteria is moderately more important to the objective\n",
      "7 (0.143) - The first (second) criteria is strongly more important to the objective\n",
      "9 (0.111) - The first (second) criteria is extremely more important to the objective\n",
      "----------------------------------------------------------------------------\n",
      "\n",
      "How do you rank criteria A relative to criteria B? 3\n",
      "The priority vector for the provided rankings is [ 0.75  0.25].\n",
      "\n",
      "You will now be asked to specify names for the 3 alternatives.\n",
      "\n",
      "Enter name for alternative 1 : X\n",
      "Enter name for alternative 2 : Y\n",
      "Enter name for alternative 3 : Z\n",
      "\n",
      "You will now be asked to rank the alternatives relative to one another with respect to each of the previously defined criteria.\n",
      "When ranking alternatives, please use the following scale:\n",
      "\n",
      "----------------------------------------------------------------------------\n",
      "1         - The two alternatives perform equally as well with respect to the criteria\n",
      "3 (0.333) - The first (second) alternative performs slightly better with respect to the criteria\n",
      "5 (0.20)  - The first (second) alternative performs moderately better with respect to the criteria\n",
      "7 (0.143) - The first (second) alternative is strongly better with respect to the criteria\n",
      "9 (0.111) - The first (second) alternative is extremely better with respect to the criteria\n",
      "----------------------------------------------------------------------------\n",
      "\n",
      "How do you rank alternative X relative to alternative Y, with respect to criteria A? 1\n",
      "How do you rank alternative X relative to alternative Z, with respect to criteria A? 7\n",
      "How do you rank alternative Y relative to alternative Z, with respect to criteria A? 3\n",
      "The consistency ratio is 0.08966038522688702. Thus, the specified preferences are consistent!\n",
      "\n",
      "How do you rank alternative X relative to alternative Y, with respect to criteria B? 0.2\n",
      "How do you rank alternative X relative to alternative Z, with respect to criteria B? 0.5\n",
      "How do you rank alternative Y relative to alternative Z, with respect to criteria B? 5\n",
      "The consistency ratio is 0.07578628268283452. Thus, the specified preferences are consistent!\n",
      "\n",
      "X score is 0.4116321178821178.\n",
      "Y score is 0.4677010489510489.\n",
      "Z score is 0.12066683316683316.\n",
      "Total score is 0.9999999999999999.\n"
     ]
    }
   ],
   "source": [
    "Single_Level_AHP_No_Rankings(2,3)"
   ]
  },
  {
   "cell_type": "markdown",
   "metadata": {},
   "source": [
    "The following code block modifies the previous function to allow users to provides rankings for the criteria and alternatives."
   ]
  },
  {
   "cell_type": "code",
   "execution_count": 13,
   "metadata": {},
   "outputs": [],
   "source": [
    "def Single_Level_AHP_With_Rankings(num_criteria,\n",
    "                                   num_alternatives,\n",
    "                                   criteria_rank_matrix,\n",
    "                                   alternative_rank_matrix_list):\n",
    "    \"\"\"Walks user through the application of the Analytic Hierarchy Process (AHP) \n",
    "    for a specified number of criteria and alternatives. In contrast to the \"Single_Level_AHP_No_Rankings\"\n",
    "    function, the function requires the user to pass a numpy array specifying the criteria rankings and a list\n",
    "    containing numpy arrays for the rankings of each alternative with respect to each criteria.\n",
    "    \n",
    "    NOTE: The order of the arrays in the list containing numpy arrays for the rankings of \n",
    "    each alternative with respect to each criteria should match the order in which criteria are specified \n",
    "    in the criteria ranking array!!!\n",
    "    \n",
    "    ----------\n",
    "    num_criteria: the number of criteria each alternative should be evaluated against\n",
    "    \n",
    "    num_alternatives: the number of alternatives\n",
    "    \n",
    "    criteria_rank_matrix: an square matrix containing the ranks for each criteria with respect to the others\n",
    "    \n",
    "    alternative_rank_matrix_list: a list of square matrices, each containing the ranks for each alternative\n",
    "    in comparison to the other alternatives for all criteria.\n",
    "    \n",
    "    Yields\n",
    "    ------\n",
    "    Prints text to the screen specifying the AHP score for each alternative\n",
    "    \"\"\"   \n",
    "    \n",
    "    number_of_criteria = num_criteria\n",
    "    criteria_names = []\n",
    "    print(\"You will now be asked to specify names for the {} criteria.\".format(number_of_criteria))\n",
    "    print(\"For simplicity, it is advised that you enter criteria in order of most to least important\\n\")\n",
    "    for i in range(number_of_criteria):\n",
    "        print(\"Enter name for criteria\",i+1,\":\",end=\" \")\n",
    "        name = input()\n",
    "        criteria_names.append(name)\n",
    "    \n",
    "    criteria_scores = criteria_rank_matrix\n",
    "\n",
    "    criteria_column_sums = np.sum(criteria_scores,axis=0)\n",
    "    criteria_scores_divided_by_sums = criteria_scores/criteria_column_sums\n",
    "    criteria_priority_vector = np.average(criteria_scores_divided_by_sums,axis=1)\n",
    "    print(\"The priority vector for the provided criteria rankings is {}.\".format(criteria_priority_vector))\n",
    "\n",
    "\n",
    "    if(number_of_criteria >2):\n",
    "        criteria_max_eigenvalue = np.inner(criteria_priority_vector,criteria_column_sums)\n",
    "        criteria_CI = (criteria_max_eigenvalue - number_of_criteria)/(number_of_criteria-1)\n",
    "        RI = [0,0,0,0.58,0.9,1.12,1.24,1.32,1.41,1.45,1.49] \n",
    "        criteria_CR = criteria_CI/RI[number_of_criteria]\n",
    "\n",
    "        if(criteria_CR < 0.10):\n",
    "            print(\"The consistency ratio is {}. Thus, the specified preferences are consistent!\"\\\n",
    "                  .format(criteria_CR))\n",
    "        else:\n",
    "            print(\"The consistency ratio is {}. Thus, the specified preferences are not consistent!\"\\\n",
    "                  .format(criteria_CR))\n",
    "            \n",
    "    number_of_alternatives = num_alternatives\n",
    "    \n",
    "    alternative_names = []\n",
    "    print(\"\\nYou will now be asked to specify names for the {} alternatives.\\n\".format(number_of_alternatives))\n",
    "    for i in range(number_of_alternatives):\n",
    "        print(\"Enter name for alternative\",i+1,\":\",end=' ')\n",
    "        name = input()\n",
    "        alternative_names.append(name)\n",
    "        \n",
    "    Alternatives_Priority_Vector_Dict = {}\n",
    "\n",
    "\n",
    "    for current_criteria in range(number_of_criteria):\n",
    "        alternative_scores = alternative_rank_matrix_list[current_criteria]\n",
    "\n",
    "        column_sums = np.sum(alternative_scores,axis=0)\n",
    "        scores_divided_by_sums = alternative_scores/column_sums\n",
    "        Alternatives_priority_vector = (1/number_of_alternatives)*np.sum(scores_divided_by_sums,axis=1)\n",
    "        Alternatives_Priority_Vector_Dict[criteria_names[current_criteria]] = Alternatives_priority_vector\n",
    "\n",
    "        if(number_of_alternatives >2):\n",
    "            alternatives_max_eigenvalue = np.inner(Alternatives_priority_vector,column_sums)\n",
    "            alternatives_CI = (alternatives_max_eigenvalue - number_of_alternatives)/(number_of_alternatives-1)\n",
    "            RI = [0,0,0,0.58,0.9,1.12,1.24,1.32,1.41,1.45,1.49] \n",
    "            alternatives_CR = alternatives_CI/RI[number_of_alternatives]\n",
    "\n",
    "            if(alternatives_CR < 0.10):\n",
    "                print(\"The consistency ratio w.r.t criteria {} is {}. Thus, the specified preferences are consistent!\"\\\n",
    "                      .format(current_criteria,alternatives_CR))\n",
    "            else:\n",
    "                print(\"The consistency ratio w.r.t criteria {} is {}. Thus, the specified preferences are not consistent!\"\\\n",
    "                      .format(current_criteria,alternatives_CR))\n",
    "    Total_Score = 0\n",
    "    for i in range(number_of_alternatives):\n",
    "        Weighted_Score = 0\n",
    "        for current_criteria in range(number_of_criteria):\n",
    "            Weighted_Score += Alternatives_Priority_Vector_Dict[criteria_names[current_criteria]][i]\\\n",
    "            *criteria_priority_vector[current_criteria]\n",
    "        Total_Score += Weighted_Score\n",
    "        print(\"{} score is {}.\".format(alternative_names[i],Weighted_Score))\n",
    "    print(\"Total score is {}.\".format(Total_Score))"
   ]
  },
  {
   "cell_type": "markdown",
   "metadata": {},
   "source": [
    "The following series of code blocks show how to create the ranking matrices for the updated function. **Note that we are solving the same instance as in the previous two examples**"
   ]
  },
  {
   "cell_type": "code",
   "execution_count": 19,
   "metadata": {},
   "outputs": [
    {
     "data": {
      "text/plain": [
       "array([[ 1.   ,  3.   ],\n",
       "       [ 0.333,  1.   ]])"
      ]
     },
     "execution_count": 19,
     "metadata": {},
     "output_type": "execute_result"
    }
   ],
   "source": [
    "criteria_rank_matrix = np.array([[1,3],[0.333,1]])\n",
    "criteria_rank_matrix"
   ]
  },
  {
   "cell_type": "code",
   "execution_count": 20,
   "metadata": {},
   "outputs": [
    {
     "data": {
      "text/plain": [
       "array([[ 1.    ,  1.    ,  7.    ],\n",
       "       [ 1.    ,  1.    ,  3.    ],\n",
       "       [ 0.1428,  0.333 ,  1.    ]])"
      ]
     },
     "execution_count": 20,
     "metadata": {},
     "output_type": "execute_result"
    }
   ],
   "source": [
    "A_Ranks = np.array([[1,1,7],[1,1,3],[0.1428,0.333,1]])\n",
    "A_Ranks"
   ]
  },
  {
   "cell_type": "code",
   "execution_count": 21,
   "metadata": {},
   "outputs": [
    {
     "data": {
      "text/plain": [
       "array([[ 1. ,  0.2,  0.5],\n",
       "       [ 5. ,  1. ,  5. ],\n",
       "       [ 2. ,  0.2,  1. ]])"
      ]
     },
     "execution_count": 21,
     "metadata": {},
     "output_type": "execute_result"
    }
   ],
   "source": [
    "B_Ranks = np.array([[1,0.2,0.5],[5,1,5],[2,0.2,1]])\n",
    "B_Ranks"
   ]
  },
  {
   "cell_type": "code",
   "execution_count": 22,
   "metadata": {},
   "outputs": [
    {
     "data": {
      "text/plain": [
       "[array([[ 1.    ,  1.    ,  7.    ],\n",
       "        [ 1.    ,  1.    ,  3.    ],\n",
       "        [ 0.1428,  0.333 ,  1.    ]]), array([[ 1. ,  0.2,  0.5],\n",
       "        [ 5. ,  1. ,  5. ],\n",
       "        [ 2. ,  0.2,  1. ]])]"
      ]
     },
     "execution_count": 22,
     "metadata": {},
     "output_type": "execute_result"
    }
   ],
   "source": [
    "ranking_list = []\n",
    "ranking_list.append(A_Ranks)\n",
    "ranking_list.append(B_Ranks)\n",
    "ranking_list"
   ]
  },
  {
   "cell_type": "code",
   "execution_count": 24,
   "metadata": {},
   "outputs": [
    {
     "name": "stdout",
     "output_type": "stream",
     "text": [
      "You will now be asked to specify names for the 2 criteria.\n",
      "For simplicity, it is advised that you enter criteria in order of most to least important\n",
      "\n",
      "Enter name for criteria 1 : A\n",
      "Enter name for criteria 2 : B\n",
      "The priority vector for the provided criteria rankings is [ 0.75009377  0.24990623].\n",
      "\n",
      "You will now be asked to specify names for the 3 alternatives.\n",
      "\n",
      "Enter name for alternative 1 : X\n",
      "Enter name for alternative 2 : Y\n",
      "Enter name for alternative 3 : Z\n",
      "The consistency ratio w.r.t criteria 0 is 0.08915234208434018. Thus, the specified preferences are consistent!\n",
      "The consistency ratio w.r.t criteria 1 is 0.07578628268283452. Thus, the specified preferences are consistent!\n",
      "X score is 0.4116876371351642.\n",
      "Y score is 0.4676900711852352.\n",
      "Z score is 0.12062229167960056.\n",
      "Total score is 1.0.\n"
     ]
    }
   ],
   "source": [
    "Single_Level_AHP_With_Rankings(2,3,criteria_rank_matrix,ranking_list)"
   ]
  },
  {
   "cell_type": "code",
   "execution_count": null,
   "metadata": {},
   "outputs": [],
   "source": []
  }
 ],
 "metadata": {
  "kernelspec": {
   "display_name": "Python 3",
   "language": "python",
   "name": "python3"
  },
  "language_info": {
   "codemirror_mode": {
    "name": "ipython",
    "version": 3
   },
   "file_extension": ".py",
   "mimetype": "text/x-python",
   "name": "python",
   "nbconvert_exporter": "python",
   "pygments_lexer": "ipython3",
   "version": "3.6.3"
  }
 },
 "nbformat": 4,
 "nbformat_minor": 2
}
